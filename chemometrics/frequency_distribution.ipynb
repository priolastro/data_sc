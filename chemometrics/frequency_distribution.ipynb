{
 "cells": [
  {
   "cell_type": "code",
   "execution_count": 72,
   "metadata": {},
   "outputs": [],
   "source": [
    "import pandas as pd\n",
    "import seaborn as sns \n",
    "import matplotlib.pyplot as plt\n",
    "import numpy as np"
   ]
  },
  {
   "cell_type": "code",
   "execution_count": 73,
   "metadata": {},
   "outputs": [],
   "source": [
    "data_frame = pd.read_excel('/Users/salvatoreprioli/Documents/ML_/chemometrics/data-sets/Datasets_1.xlsx', sheet_name=1)"
   ]
  },
  {
   "cell_type": "code",
   "execution_count": 74,
   "metadata": {},
   "outputs": [],
   "source": [
    "freq_tab = data_frame[['Sum of pollution sources','Turbdity_NTU']]"
   ]
  },
  {
   "cell_type": "code",
   "execution_count": 75,
   "metadata": {},
   "outputs": [],
   "source": [
    "frequency_distribution_table = pd.DataFrame(columns=['Name','Frequency','Missing', 'Percentage', 'Cumulative per'])\n",
    "frequency_distribution_table['Frequency'] = freq_tab['Sum of pollution sources'].value_counts()\n",
    "frequency_distribution_table['Missing']= freq_tab['Sum of pollution sources'].isna().sum()\n",
    "frequency_distribution_table['Percentage'] = freq_tab['Sum of pollution sources'].value_counts(normalize=True)*100\n",
    "frequency_distribution_table['Cumulative per'] = 100 * (freq_tab['Sum of pollution sources'].cumsum()/freq_tab['Sum of pollution sources'].sum()) "
   ]
  },
  {
   "cell_type": "code",
   "execution_count": 87,
   "metadata": {},
   "outputs": [
    {
     "data": {
      "text/html": [
       "<div>\n",
       "<style scoped>\n",
       "    .dataframe tbody tr th:only-of-type {\n",
       "        vertical-align: middle;\n",
       "    }\n",
       "\n",
       "    .dataframe tbody tr th {\n",
       "        vertical-align: top;\n",
       "    }\n",
       "\n",
       "    .dataframe thead th {\n",
       "        text-align: right;\n",
       "    }\n",
       "</style>\n",
       "<table border=\"1\" class=\"dataframe\">\n",
       "  <thead>\n",
       "    <tr style=\"text-align: right;\">\n",
       "      <th></th>\n",
       "      <th>Name</th>\n",
       "      <th>Frequency</th>\n",
       "      <th>Missing</th>\n",
       "      <th>Percentage</th>\n",
       "      <th>Cumulative per</th>\n",
       "    </tr>\n",
       "  </thead>\n",
       "  <tbody>\n",
       "    <tr>\n",
       "      <th>0</th>\n",
       "      <td>NaN</td>\n",
       "      <td>2147</td>\n",
       "      <td>0</td>\n",
       "      <td>37.653455</td>\n",
       "      <td>0.013235</td>\n",
       "    </tr>\n",
       "    <tr>\n",
       "      <th>2</th>\n",
       "      <td>NaN</td>\n",
       "      <td>1344</td>\n",
       "      <td>0</td>\n",
       "      <td>23.570677</td>\n",
       "      <td>0.079407</td>\n",
       "    </tr>\n",
       "    <tr>\n",
       "      <th>1</th>\n",
       "      <td>NaN</td>\n",
       "      <td>1046</td>\n",
       "      <td>0</td>\n",
       "      <td>18.344441</td>\n",
       "      <td>0.052938</td>\n",
       "    </tr>\n",
       "    <tr>\n",
       "      <th>3</th>\n",
       "      <td>NaN</td>\n",
       "      <td>954</td>\n",
       "      <td>0</td>\n",
       "      <td>16.730972</td>\n",
       "      <td>0.105876</td>\n",
       "    </tr>\n",
       "    <tr>\n",
       "      <th>4</th>\n",
       "      <td>NaN</td>\n",
       "      <td>127</td>\n",
       "      <td>0</td>\n",
       "      <td>2.227289</td>\n",
       "      <td>0.132345</td>\n",
       "    </tr>\n",
       "    <tr>\n",
       "      <th>5</th>\n",
       "      <td>NaN</td>\n",
       "      <td>52</td>\n",
       "      <td>0</td>\n",
       "      <td>0.911961</td>\n",
       "      <td>0.158814</td>\n",
       "    </tr>\n",
       "    <tr>\n",
       "      <th>6</th>\n",
       "      <td>NaN</td>\n",
       "      <td>32</td>\n",
       "      <td>0</td>\n",
       "      <td>0.561207</td>\n",
       "      <td>0.198518</td>\n",
       "    </tr>\n",
       "  </tbody>\n",
       "</table>\n",
       "</div>"
      ],
      "text/plain": [
       "  Name  Frequency  Missing  Percentage  Cumulative per\n",
       "0  NaN       2147        0   37.653455        0.013235\n",
       "2  NaN       1344        0   23.570677        0.079407\n",
       "1  NaN       1046        0   18.344441        0.052938\n",
       "3  NaN        954        0   16.730972        0.105876\n",
       "4  NaN        127        0    2.227289        0.132345\n",
       "5  NaN         52        0    0.911961        0.158814\n",
       "6  NaN         32        0    0.561207        0.198518"
      ]
     },
     "execution_count": 87,
     "metadata": {},
     "output_type": "execute_result"
    }
   ],
   "source": [
    "frequency_distribution_table"
   ]
  },
  {
   "cell_type": "code",
   "execution_count": 7,
   "metadata": {},
   "outputs": [],
   "source": [
    "algae_obs = data_frame['c) Is the algae...']"
   ]
  },
  {
   "cell_type": "code",
   "execution_count": 8,
   "metadata": {},
   "outputs": [
    {
     "data": {
      "text/plain": [
       "{'No algae': 3750,\n",
       " 'Evenly dispersed': 263,\n",
       " 'Floating mats': 187,\n",
       " 'Blue-green scum': 84,\n",
       " 'Attached': 451}"
      ]
     },
     "execution_count": 8,
     "metadata": {},
     "output_type": "execute_result"
    }
   ],
   "source": [
    "set_of_possiblities = algae_obs.unique()[:5]\n",
    "counting=dict.fromkeys(algae_obs.unique()[:5])\n",
    "for i in algae_obs:\n",
    "    if i in set_of_possiblities:\n",
    "        if counting[i] == None:\n",
    "            counting[i] = 0\n",
    "        else:\n",
    "            counting[i]+=1\n",
    "counting"
   ]
  },
  {
   "cell_type": "code",
   "execution_count": 70,
   "metadata": {},
   "outputs": [],
   "source": [
    "color = data_frame['a) Estimate the water colour']\n",
    "frequency_distribution_table = pd.DataFrame()\n",
    "frequency_distribution_table.index.name='Water colour'\n",
    "frequency_distribution_table['Frequency'] = color.value_counts()\n",
    "# frequency_distribution_table['Missing']= freq_tab['a) Estimate the water colour'].isna().sum()\n",
    "frequency_distribution_table['Percentage'] = 100*color.value_counts(normalize=True).round(2)\n",
    "frequency_distribution_table['Cumulative percentage'] = 100*(color.value_counts().cumsum()/color.value_counts().sum()).round(2)\n",
    "frequency_distribution_table.loc['Total']= frequency_distribution_table.sum()\n"
   ]
  },
  {
   "cell_type": "code",
   "execution_count": 71,
   "metadata": {},
   "outputs": [
    {
     "data": {
      "text/html": [
       "<div>\n",
       "<style scoped>\n",
       "    .dataframe tbody tr th:only-of-type {\n",
       "        vertical-align: middle;\n",
       "    }\n",
       "\n",
       "    .dataframe tbody tr th {\n",
       "        vertical-align: top;\n",
       "    }\n",
       "\n",
       "    .dataframe thead th {\n",
       "        text-align: right;\n",
       "    }\n",
       "</style>\n",
       "<table border=\"1\" class=\"dataframe\">\n",
       "  <thead>\n",
       "    <tr style=\"text-align: right;\">\n",
       "      <th></th>\n",
       "      <th>Frequency</th>\n",
       "      <th>Percentage</th>\n",
       "      <th>Cumulative percentage</th>\n",
       "    </tr>\n",
       "    <tr>\n",
       "      <th>Water colour</th>\n",
       "      <th></th>\n",
       "      <th></th>\n",
       "      <th></th>\n",
       "    </tr>\n",
       "  </thead>\n",
       "  <tbody>\n",
       "    <tr>\n",
       "      <th>Colourless</th>\n",
       "      <td>1774.0</td>\n",
       "      <td>35.0</td>\n",
       "      <td>35.0</td>\n",
       "    </tr>\n",
       "    <tr>\n",
       "      <th>Brown</th>\n",
       "      <td>1391.0</td>\n",
       "      <td>28.0</td>\n",
       "      <td>63.0</td>\n",
       "    </tr>\n",
       "    <tr>\n",
       "      <th>Green</th>\n",
       "      <td>704.0</td>\n",
       "      <td>14.0</td>\n",
       "      <td>77.0</td>\n",
       "    </tr>\n",
       "    <tr>\n",
       "      <th>Yellow</th>\n",
       "      <td>700.0</td>\n",
       "      <td>14.0</td>\n",
       "      <td>90.0</td>\n",
       "    </tr>\n",
       "    <tr>\n",
       "      <th>Other</th>\n",
       "      <td>484.0</td>\n",
       "      <td>10.0</td>\n",
       "      <td>100.0</td>\n",
       "    </tr>\n",
       "    <tr>\n",
       "      <th>Total</th>\n",
       "      <td>5053.0</td>\n",
       "      <td>101.0</td>\n",
       "      <td>365.0</td>\n",
       "    </tr>\n",
       "  </tbody>\n",
       "</table>\n",
       "</div>"
      ],
      "text/plain": [
       "              Frequency  Percentage  Cumulative percentage\n",
       "Water colour                                              \n",
       "Colourless       1774.0        35.0                   35.0\n",
       "Brown            1391.0        28.0                   63.0\n",
       "Green             704.0        14.0                   77.0\n",
       "Yellow            700.0        14.0                   90.0\n",
       "Other             484.0        10.0                  100.0\n",
       "Total            5053.0       101.0                  365.0"
      ]
     },
     "execution_count": 71,
     "metadata": {},
     "output_type": "execute_result"
    }
   ],
   "source": [
    "frequency_distribution_table"
   ]
  },
  {
   "cell_type": "code",
   "execution_count": 58,
   "metadata": {},
   "outputs": [
    {
     "data": {
      "text/plain": [
       "<AxesSubplot:xlabel='Water colour'>"
      ]
     },
     "execution_count": 58,
     "metadata": {},
     "output_type": "execute_result"
    },
    {
     "data": {
      "image/png": "[encoded data removed]",
      "text/plain": [
       "<Figure size 432x288 with 1 Axes>"
      ]
     },
     "metadata": {
      "needs_background": "light"
     },
     "output_type": "display_data"
    }
   ],
   "source": [
    "fig, ax = plt.subplots()\n",
    "frequency_distribution_table['Frequency'].plot(ax=ax, kind='bar')"
   ]
  },
  {
   "cell_type": "code",
   "execution_count": 33,
   "metadata": {},
   "outputs": [],
   "source": [
    "color = data_frame['a) Estimate the water colour']\n",
    "flow = data_frame['a) Estimate the water flow']\n",
    "contingency_tab = pd.crosstab(index=flow, columns=color, margins=True, normalize='columns').round(4)*100\n",
    "\n"
   ]
  },
  {
   "cell_type": "code",
   "execution_count": 34,
   "metadata": {},
   "outputs": [
    {
     "data": {
      "text/html": [
       "<div>\n",
       "<style scoped>\n",
       "    .dataframe tbody tr th:only-of-type {\n",
       "        vertical-align: middle;\n",
       "    }\n",
       "\n",
       "    .dataframe tbody tr th {\n",
       "        vertical-align: top;\n",
       "    }\n",
       "\n",
       "    .dataframe thead th {\n",
       "        text-align: right;\n",
       "    }\n",
       "</style>\n",
       "<table border=\"1\" class=\"dataframe\">\n",
       "  <thead>\n",
       "    <tr style=\"text-align: right;\">\n",
       "      <th>a) Estimate the water colour</th>\n",
       "      <th>Brown</th>\n",
       "      <th>Colourless</th>\n",
       "      <th>Green</th>\n",
       "      <th>Other</th>\n",
       "      <th>Yellow</th>\n",
       "      <th>All</th>\n",
       "    </tr>\n",
       "    <tr>\n",
       "      <th>a) Estimate the water flow</th>\n",
       "      <th></th>\n",
       "      <th></th>\n",
       "      <th></th>\n",
       "      <th></th>\n",
       "      <th></th>\n",
       "      <th></th>\n",
       "    </tr>\n",
       "  </thead>\n",
       "  <tbody>\n",
       "    <tr>\n",
       "      <th>Slow</th>\n",
       "      <td>28.55</td>\n",
       "      <td>32.84</td>\n",
       "      <td>41.62</td>\n",
       "      <td>45.55</td>\n",
       "      <td>32.86</td>\n",
       "      <td>34.11</td>\n",
       "    </tr>\n",
       "    <tr>\n",
       "      <th>Steady</th>\n",
       "      <td>49.53</td>\n",
       "      <td>53.36</td>\n",
       "      <td>35.23</td>\n",
       "      <td>35.40</td>\n",
       "      <td>47.14</td>\n",
       "      <td>47.19</td>\n",
       "    </tr>\n",
       "    <tr>\n",
       "      <th>Still</th>\n",
       "      <td>14.35</td>\n",
       "      <td>7.57</td>\n",
       "      <td>17.76</td>\n",
       "      <td>12.63</td>\n",
       "      <td>12.71</td>\n",
       "      <td>12.06</td>\n",
       "    </tr>\n",
       "    <tr>\n",
       "      <th>Surging</th>\n",
       "      <td>7.57</td>\n",
       "      <td>6.22</td>\n",
       "      <td>5.40</td>\n",
       "      <td>6.42</td>\n",
       "      <td>7.29</td>\n",
       "      <td>6.64</td>\n",
       "    </tr>\n",
       "  </tbody>\n",
       "</table>\n",
       "</div>"
      ],
      "text/plain": [
       "a) Estimate the water colour  Brown  Colourless  Green  Other  Yellow    All\n",
       "a) Estimate the water flow                                                  \n",
       "Slow                          28.55       32.84  41.62  45.55   32.86  34.11\n",
       "Steady                        49.53       53.36  35.23  35.40   47.14  47.19\n",
       "Still                         14.35        7.57  17.76  12.63   12.71  12.06\n",
       "Surging                        7.57        6.22   5.40   6.42    7.29   6.64"
      ]
     },
     "execution_count": 34,
     "metadata": {},
     "output_type": "execute_result"
    }
   ],
   "source": [
    "contingency_tab"
   ]
  },
  {
   "cell_type": "code",
   "execution_count": null,
   "metadata": {},
   "outputs": [],
   "source": []
  }
 ],
 "metadata": {
  "interpreter": {
   "hash": "73df3d2a648ddfe6e132dd0b2981f8c5ee01eb57f65aaa52301d101a94b0ebb5"
  },
  "kernelspec": {
   "display_name": "Python 3.8.8 ('base')",
   "language": "python",
   "name": "python3"
  },
  "language_info": {
   "codemirror_mode": {
    "name": "ipython",
    "version": 3
   },
   "file_extension": ".py",
   "mimetype": "text/x-python",
   "name": "python",
   "nbconvert_exporter": "python",
   "pygments_lexer": "ipython3",
   "version": "3.8.8"
  },
  "orig_nbformat": 4
 },
 "nbformat": 4,
 "nbformat_minor": 2
}
