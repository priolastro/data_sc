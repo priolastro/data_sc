{
 "cells": [
  {
   "cell_type": "code",
   "execution_count": 297,
   "metadata": {},
   "outputs": [],
   "source": [
    "import pandas as pd\n",
    "import seaborn as sns \n",
    "import matplotlib.pyplot as plt\n",
    "import plotly.express as px\n",
    "import numpy as np\n",
    "from scipy.stats import zscore, norm\n",
    "import os \n",
    "from sklearn.model_selection import train_test_split \n",
    "from sklearn.linear_model import LinearRegression \n",
    "from sklearn.metrics import mean_squared_error, r2_score"
   ]
  },
  {
   "cell_type": "code",
   "execution_count": 298,
   "metadata": {},
   "outputs": [],
   "source": [
    "data_frame = pd.read_excel('/Users/salvatoreprioli/Documents/ML_/chemometrics/data-sets/Datasets_1.xlsx', sheet_name=0, index_col=0, usecols=['lake', 'Chlaμgl', 'TPmgl', 'DOCmgL', 'PCugL'])\n",
    "save_to_path = '/Users/salvatoreprioli/Documents/ML_/notes/Reports'"
   ]
  },
  {
   "cell_type": "code",
   "execution_count": 301,
   "metadata": {},
   "outputs": [
    {
     "data": {
      "text/html": [
       "<div>\n",
       "<style scoped>\n",
       "    .dataframe tbody tr th:only-of-type {\n",
       "        vertical-align: middle;\n",
       "    }\n",
       "\n",
       "    .dataframe tbody tr th {\n",
       "        vertical-align: top;\n",
       "    }\n",
       "\n",
       "    .dataframe thead th {\n",
       "        text-align: right;\n",
       "    }\n",
       "</style>\n",
       "<table border=\"1\" class=\"dataframe\">\n",
       "  <thead>\n",
       "    <tr style=\"text-align: right;\">\n",
       "      <th></th>\n",
       "      <th>Chlaμgl</th>\n",
       "      <th>PCugL</th>\n",
       "      <th>DOCmgL</th>\n",
       "      <th>TPmgl</th>\n",
       "    </tr>\n",
       "  </thead>\n",
       "  <tbody>\n",
       "    <tr>\n",
       "      <th>Mean</th>\n",
       "      <td>41.646468</td>\n",
       "      <td>2.500535</td>\n",
       "      <td>5.957451</td>\n",
       "      <td>0.083263</td>\n",
       "    </tr>\n",
       "    <tr>\n",
       "      <th>Median</th>\n",
       "      <td>25.812133</td>\n",
       "      <td>1.39362</td>\n",
       "      <td>5.378875</td>\n",
       "      <td>0.059886</td>\n",
       "    </tr>\n",
       "    <tr>\n",
       "      <th>Mean-Median</th>\n",
       "      <td>15.834335</td>\n",
       "      <td>1.106915</td>\n",
       "      <td>0.578576</td>\n",
       "      <td>0.023377</td>\n",
       "    </tr>\n",
       "    <tr>\n",
       "      <th>Kurtosis</th>\n",
       "      <td>1.799239</td>\n",
       "      <td>17.333973</td>\n",
       "      <td>4.421073</td>\n",
       "      <td>3.713023</td>\n",
       "    </tr>\n",
       "    <tr>\n",
       "      <th>Skewness</th>\n",
       "      <td>1.571456</td>\n",
       "      <td>3.735184</td>\n",
       "      <td>2.040527</td>\n",
       "      <td>1.879541</td>\n",
       "    </tr>\n",
       "  </tbody>\n",
       "</table>\n",
       "</div>"
      ],
      "text/plain": [
       "               Chlaμgl      PCugL    DOCmgL     TPmgl\n",
       "Mean         41.646468   2.500535  5.957451  0.083263\n",
       "Median       25.812133    1.39362  5.378875  0.059886\n",
       "Mean-Median  15.834335   1.106915  0.578576  0.023377\n",
       "Kurtosis      1.799239  17.333973  4.421073  3.713023\n",
       "Skewness      1.571456   3.735184  2.040527  1.879541"
      ]
     },
     "execution_count": 301,
     "metadata": {},
     "output_type": "execute_result"
    }
   ],
   "source": [
    "distribution_data = pd.DataFrame(columns=data_frame.keys())\n",
    "for i in data_frame.keys():\n",
    "    distribution_data.at['Mean', i] = data_frame[i].mean()\n",
    "    distribution_data.at['Median', i] = data_frame[i].median()\n",
    "    distribution_data.at['Mean-Median', i] = data_frame[i].mean()-data_frame[i].median()\n",
    "    distribution_data.at['Kurtosis', i] = data_frame[i].kurtosis() #using fisher definition\n",
    "    distribution_data.at['Skewness', i] = data_frame[i].skew() \n",
    "distribution_data.to_latex(os.path.join(save_to_path,'distribution_tab.tex'))\n",
    "distribution_data"
   ]
  },
  {
   "cell_type": "code",
   "execution_count": 290,
   "metadata": {},
   "outputs": [
    {
     "name": "stderr",
     "output_type": "stream",
     "text": [
      "/Library/anaconda3/lib/python3.8/site-packages/seaborn/distributions.py:2557: FutureWarning:\n",
      "\n",
      "`distplot` is a deprecated function and will be removed in a future version. Please adapt your code to use either `displot` (a figure-level function with similar flexibility) or `histplot` (an axes-level function for histograms).\n",
      "\n",
      "/Library/anaconda3/lib/python3.8/site-packages/seaborn/distributions.py:2557: FutureWarning:\n",
      "\n",
      "`distplot` is a deprecated function and will be removed in a future version. Please adapt your code to use either `displot` (a figure-level function with similar flexibility) or `histplot` (an axes-level function for histograms).\n",
      "\n",
      "/Library/anaconda3/lib/python3.8/site-packages/seaborn/distributions.py:2557: FutureWarning:\n",
      "\n",
      "`distplot` is a deprecated function and will be removed in a future version. Please adapt your code to use either `displot` (a figure-level function with similar flexibility) or `histplot` (an axes-level function for histograms).\n",
      "\n",
      "/Library/anaconda3/lib/python3.8/site-packages/seaborn/distributions.py:2557: FutureWarning:\n",
      "\n",
      "`distplot` is a deprecated function and will be removed in a future version. Please adapt your code to use either `displot` (a figure-level function with similar flexibility) or `histplot` (an axes-level function for histograms).\n",
      "\n"
     ]
    },
    {
     "data": {
      "image/png": "[encoded data removed]",
      "text/plain": [
       "<Figure size 343.778x252 with 4 Axes>"
      ]
     },
     "metadata": {
      "needs_background": "light"
     },
     "output_type": "display_data"
    }
   ],
   "source": [
    "fig, axes = plt.subplots(2, 2)\n",
    "fig.set_size_inches(w=4.7747, h=3.5) #based on latex doc\n",
    "fig.tight_layout()\n",
    "j=0\n",
    "for a in [0,1]:\n",
    "    for b in [0,1]:\n",
    "        (mu, sigma) = norm.fit(data_frame.iloc[:, j])\n",
    "        sns.distplot(data_frame.iloc[:, j], bins=20, ax=axes[a,b], fit=norm)\n",
    "        axes[a,b].legend(['$\\mu=$ {:.2f} and $\\sigma=$ {:.2f}'.format(mu, sigma)], loc='best')\n",
    "        j+=1\n",
    "plt.savefig(os.path.join(save_to_path,'distribution_plot.pgf'))"
   ]
  },
  {
   "cell_type": "code",
   "execution_count": 291,
   "metadata": {},
   "outputs": [],
   "source": [
    "# Outlers present but it's better to not remove them before transform the data\n",
    "# Q1 = data_frame.quantile(0.25)\n",
    "# Q3 = data_frame.quantile(0.75)\n",
    "# IQR = Q3 - Q1\n",
    "# data_frame_no_outliers = data_frame[~((data_frame < (Q1 - 1.5 * IQR)) |(data_frame > (Q3 + 1.5 * IQR))).any(axis=1)]"
   ]
  },
  {
   "cell_type": "code",
   "execution_count": 303,
   "metadata": {},
   "outputs": [
    {
     "data": {
      "text/html": [
       "<div>\n",
       "<style scoped>\n",
       "    .dataframe tbody tr th:only-of-type {\n",
       "        vertical-align: middle;\n",
       "    }\n",
       "\n",
       "    .dataframe tbody tr th {\n",
       "        vertical-align: top;\n",
       "    }\n",
       "\n",
       "    .dataframe thead th {\n",
       "        text-align: right;\n",
       "    }\n",
       "</style>\n",
       "<table border=\"1\" class=\"dataframe\">\n",
       "  <thead>\n",
       "    <tr style=\"text-align: right;\">\n",
       "      <th></th>\n",
       "      <th>Chlaμgl</th>\n",
       "      <th>PCugL</th>\n",
       "      <th>DOCmgL</th>\n",
       "      <th>TPmgl</th>\n",
       "    </tr>\n",
       "  </thead>\n",
       "  <tbody>\n",
       "    <tr>\n",
       "      <th>Mean</th>\n",
       "      <td>1.428157</td>\n",
       "      <td>0.176517</td>\n",
       "      <td>0.742226</td>\n",
       "      <td>-1.222298</td>\n",
       "    </tr>\n",
       "    <tr>\n",
       "      <th>Median</th>\n",
       "      <td>1.411774</td>\n",
       "      <td>0.144117</td>\n",
       "      <td>0.730686</td>\n",
       "      <td>-1.222693</td>\n",
       "    </tr>\n",
       "    <tr>\n",
       "      <th>Mean-Median</th>\n",
       "      <td>0.016382</td>\n",
       "      <td>0.0324</td>\n",
       "      <td>0.011539</td>\n",
       "      <td>0.000395</td>\n",
       "    </tr>\n",
       "    <tr>\n",
       "      <th>Kurtosis</th>\n",
       "      <td>-0.485844</td>\n",
       "      <td>0.060878</td>\n",
       "      <td>1.228027</td>\n",
       "      <td>-0.348265</td>\n",
       "    </tr>\n",
       "    <tr>\n",
       "      <th>Skewness</th>\n",
       "      <td>-0.115639</td>\n",
       "      <td>0.480831</td>\n",
       "      <td>0.817147</td>\n",
       "      <td>-0.018665</td>\n",
       "    </tr>\n",
       "  </tbody>\n",
       "</table>\n",
       "</div>"
      ],
      "text/plain": [
       "              Chlaμgl     PCugL    DOCmgL     TPmgl\n",
       "Mean         1.428157  0.176517  0.742226 -1.222298\n",
       "Median       1.411774  0.144117  0.730686 -1.222693\n",
       "Mean-Median  0.016382    0.0324  0.011539  0.000395\n",
       "Kurtosis    -0.485844  0.060878  1.228027 -0.348265\n",
       "Skewness    -0.115639  0.480831  0.817147 -0.018665"
      ]
     },
     "execution_count": 303,
     "metadata": {},
     "output_type": "execute_result"
    }
   ],
   "source": [
    "log_data_frame = np.log10(data_frame) \n",
    "distribution_log_data = pd.DataFrame(columns=log_data_frame.keys())\n",
    "for i in log_data_frame.keys():\n",
    "    distribution_log_data.at['Mean', i] = log_data_frame[i].mean()\n",
    "    distribution_log_data.at['Median', i] = log_data_frame[i].median()\n",
    "    distribution_log_data.at['Mean-Median', i] = log_data_frame[i].mean()-log_data_frame[i].median()\n",
    "    distribution_log_data.at['Kurtosis', i] = log_data_frame[i].kurtosis() #using fisher definition\n",
    "    distribution_log_data.at['Skewness', i] = log_data_frame[i].skew() \n",
    "distribution_log_data.to_latex(os.path.join(save_to_path,'log_distribution_tab.tex'))\n",
    "distribution_log_data"
   ]
  },
  {
   "cell_type": "code",
   "execution_count": 304,
   "metadata": {},
   "outputs": [
    {
     "name": "stderr",
     "output_type": "stream",
     "text": [
      "/Library/anaconda3/lib/python3.8/site-packages/seaborn/distributions.py:2557: FutureWarning:\n",
      "\n",
      "`distplot` is a deprecated function and will be removed in a future version. Please adapt your code to use either `displot` (a figure-level function with similar flexibility) or `histplot` (an axes-level function for histograms).\n",
      "\n",
      "/Library/anaconda3/lib/python3.8/site-packages/seaborn/distributions.py:2557: FutureWarning:\n",
      "\n",
      "`distplot` is a deprecated function and will be removed in a future version. Please adapt your code to use either `displot` (a figure-level function with similar flexibility) or `histplot` (an axes-level function for histograms).\n",
      "\n",
      "/Library/anaconda3/lib/python3.8/site-packages/seaborn/distributions.py:2557: FutureWarning:\n",
      "\n",
      "`distplot` is a deprecated function and will be removed in a future version. Please adapt your code to use either `displot` (a figure-level function with similar flexibility) or `histplot` (an axes-level function for histograms).\n",
      "\n",
      "/Library/anaconda3/lib/python3.8/site-packages/seaborn/distributions.py:2557: FutureWarning:\n",
      "\n",
      "`distplot` is a deprecated function and will be removed in a future version. Please adapt your code to use either `displot` (a figure-level function with similar flexibility) or `histplot` (an axes-level function for histograms).\n",
      "\n"
     ]
    },
    {
     "data": {
      "image/png": "[encoded data removed]",
      "text/plain": [
       "<Figure size 343.778x252 with 4 Axes>"
      ]
     },
     "metadata": {
      "needs_background": "light"
     },
     "output_type": "display_data"
    }
   ],
   "source": [
    "fig, axes = plt.subplots(2, 2)\n",
    "fig.set_size_inches(w=4.7747, h=3.5) #based on latex doc\n",
    "fig.tight_layout()\n",
    "j=0\n",
    "for a in [0,1]:\n",
    "    for b in [0,1]:\n",
    "        (mu, sigma) = norm.fit(log_data_frame.iloc[:, j])\n",
    "        sns.distplot(log_data_frame.iloc[:, j], bins=20, ax=axes[a,b], fit=norm)\n",
    "        axes[a,b].legend(['$\\mu=$ {:.2f} and $\\sigma=$ {:.2f}'.format(mu, sigma)], loc='best')\n",
    "        j+=1\n",
    "plt.savefig(os.path.join(save_to_path,'log_distribution_plot.pgf'))\n"
   ]
  },
  {
   "cell_type": "code",
   "execution_count": 307,
   "metadata": {},
   "outputs": [
    {
     "data": {
      "image/png": "[encoded data removed]",
      "text/plain": [
       "<Figure size 432x288 with 2 Axes>"
      ]
     },
     "metadata": {
      "needs_background": "light"
     },
     "output_type": "display_data"
    }
   ],
   "source": [
    "plt.figure()\n",
    "fig.set_size_inches(w=4.7747, h=3.5) #based on latex doc\n",
    "cor = log_data_frame.corr(method='pearson')-log_data_frame.corr(method='spearman')\n",
    "sns.heatmap(cor, annot=True, cmap=plt.cm.PuBu)\n",
    "plt.savefig(os.path.join(save_to_path,'correlation_diff_plot.pgf'))\n"
   ]
  },
  {
   "cell_type": "code",
   "execution_count": 305,
   "metadata": {},
   "outputs": [
    {
     "data": {
      "text/html": [
       "<style  type=\"text/css\" >\n",
       "</style><table id=\"T_0fee5_\" ><thead>    <tr>        <th class=\"blank level0\" ></th>        <th class=\"col_heading level0 col0\" >Chlaμgl</th>        <th class=\"col_heading level0 col1\" >PCugL</th>        <th class=\"col_heading level0 col2\" >DOCmgL</th>        <th class=\"col_heading level0 col3\" >TPmgl</th>    </tr>    <tr>        <th class=\"index_name level0\" >lake</th>        <th class=\"blank\" ></th>        <th class=\"blank\" ></th>        <th class=\"blank\" ></th>        <th class=\"blank\" ></th>    </tr></thead><tbody>\n",
       "                <tr>\n",
       "                        <th id=\"T_0fee5_level0_row0\" class=\"row_heading level0 row0\" >Wangtian</th>\n",
       "                        <td id=\"T_0fee5_row0_col0\" class=\"data row0 col0\" >-0.546811</td>\n",
       "                        <td id=\"T_0fee5_row0_col1\" class=\"data row0 col1\" >-1.963161</td>\n",
       "                        <td id=\"T_0fee5_row0_col2\" class=\"data row0 col2\" >0.085998</td>\n",
       "                        <td id=\"T_0fee5_row0_col3\" class=\"data row0 col3\" >-0.609235</td>\n",
       "            </tr>\n",
       "            <tr>\n",
       "                        <th id=\"T_0fee5_level0_row1\" class=\"row_heading level0 row1\" >Wu</th>\n",
       "                        <td id=\"T_0fee5_row1_col0\" class=\"data row1 col0\" >-0.485768</td>\n",
       "                        <td id=\"T_0fee5_row1_col1\" class=\"data row1 col1\" >-1.744710</td>\n",
       "                        <td id=\"T_0fee5_row1_col2\" class=\"data row1 col2\" >0.627699</td>\n",
       "                        <td id=\"T_0fee5_row1_col3\" class=\"data row1 col3\" >-0.130714</td>\n",
       "            </tr>\n",
       "            <tr>\n",
       "                        <th id=\"T_0fee5_level0_row2\" class=\"row_heading level0 row2\" >Taibai</th>\n",
       "                        <td id=\"T_0fee5_row2_col0\" class=\"data row2 col0\" >0.280452</td>\n",
       "                        <td id=\"T_0fee5_row2_col1\" class=\"data row2 col1\" >-1.611731</td>\n",
       "                        <td id=\"T_0fee5_row2_col2\" class=\"data row2 col2\" >-0.244032</td>\n",
       "                        <td id=\"T_0fee5_row2_col3\" class=\"data row2 col3\" >0.484654</td>\n",
       "            </tr>\n",
       "            <tr>\n",
       "                        <th id=\"T_0fee5_level0_row3\" class=\"row_heading level0 row3\" >Sanshan</th>\n",
       "                        <td id=\"T_0fee5_row3_col0\" class=\"data row3 col0\" >-0.774945</td>\n",
       "                        <td id=\"T_0fee5_row3_col1\" class=\"data row3 col1\" >-1.328396</td>\n",
       "                        <td id=\"T_0fee5_row3_col2\" class=\"data row3 col2\" >-0.729992</td>\n",
       "                        <td id=\"T_0fee5_row3_col3\" class=\"data row3 col3\" >-1.528695</td>\n",
       "            </tr>\n",
       "            <tr>\n",
       "                        <th id=\"T_0fee5_level0_row4\" class=\"row_heading level0 row4\" >Baojie</th>\n",
       "                        <td id=\"T_0fee5_row4_col0\" class=\"data row4 col0\" >-1.937118</td>\n",
       "                        <td id=\"T_0fee5_row4_col1\" class=\"data row4 col1\" >-1.057475</td>\n",
       "                        <td id=\"T_0fee5_row4_col2\" class=\"data row4 col2\" >0.144681</td>\n",
       "                        <td id=\"T_0fee5_row4_col3\" class=\"data row4 col3\" >-2.156824</td>\n",
       "            </tr>\n",
       "            <tr>\n",
       "                        <th id=\"T_0fee5_level0_row5\" class=\"row_heading level0 row5\" >Lu</th>\n",
       "                        <td id=\"T_0fee5_row5_col0\" class=\"data row5 col0\" >-1.010188</td>\n",
       "                        <td id=\"T_0fee5_row5_col1\" class=\"data row5 col1\" >-1.044693</td>\n",
       "                        <td id=\"T_0fee5_row5_col2\" class=\"data row5 col2\" >-0.907423</td>\n",
       "                        <td id=\"T_0fee5_row5_col3\" class=\"data row5 col3\" >-1.250674</td>\n",
       "            </tr>\n",
       "            <tr>\n",
       "                        <th id=\"T_0fee5_level0_row6\" class=\"row_heading level0 row6\" >Fengsha</th>\n",
       "                        <td id=\"T_0fee5_row6_col0\" class=\"data row6 col0\" >-2.036033</td>\n",
       "                        <td id=\"T_0fee5_row6_col1\" class=\"data row6 col1\" >-1.042083</td>\n",
       "                        <td id=\"T_0fee5_row6_col2\" class=\"data row6 col2\" >2.663464</td>\n",
       "                        <td id=\"T_0fee5_row6_col3\" class=\"data row6 col3\" >-0.219140</td>\n",
       "            </tr>\n",
       "            <tr>\n",
       "                        <th id=\"T_0fee5_level0_row7\" class=\"row_heading level0 row7\" >Chen</th>\n",
       "                        <td id=\"T_0fee5_row7_col0\" class=\"data row7 col0\" >0.352303</td>\n",
       "                        <td id=\"T_0fee5_row7_col1\" class=\"data row7 col1\" >-1.027334</td>\n",
       "                        <td id=\"T_0fee5_row7_col2\" class=\"data row7 col2\" >-0.384890</td>\n",
       "                        <td id=\"T_0fee5_row7_col3\" class=\"data row7 col3\" >0.396685</td>\n",
       "            </tr>\n",
       "            <tr>\n",
       "                        <th id=\"T_0fee5_level0_row8\" class=\"row_heading level0 row8\" >Longwo</th>\n",
       "                        <td id=\"T_0fee5_row8_col0\" class=\"data row8 col0\" >-2.244091</td>\n",
       "                        <td id=\"T_0fee5_row8_col1\" class=\"data row8 col1\" >-1.021726</td>\n",
       "                        <td id=\"T_0fee5_row8_col2\" class=\"data row8 col2\" >-0.930990</td>\n",
       "                        <td id=\"T_0fee5_row8_col3\" class=\"data row8 col3\" >-1.532147</td>\n",
       "            </tr>\n",
       "            <tr>\n",
       "                        <th id=\"T_0fee5_level0_row9\" class=\"row_heading level0 row9\" >She</th>\n",
       "                        <td id=\"T_0fee5_row9_col0\" class=\"data row9 col0\" >-0.251828</td>\n",
       "                        <td id=\"T_0fee5_row9_col1\" class=\"data row9 col1\" >-0.944571</td>\n",
       "                        <td id=\"T_0fee5_row9_col2\" class=\"data row9 col2\" >-0.609933</td>\n",
       "                        <td id=\"T_0fee5_row9_col3\" class=\"data row9 col3\" >-1.222629</td>\n",
       "            </tr>\n",
       "            <tr>\n",
       "                        <th id=\"T_0fee5_level0_row10\" class=\"row_heading level0 row10\" >Chi</th>\n",
       "                        <td id=\"T_0fee5_row10_col0\" class=\"data row10 col0\" >-1.303578</td>\n",
       "                        <td id=\"T_0fee5_row10_col1\" class=\"data row10 col1\" >-0.943289</td>\n",
       "                        <td id=\"T_0fee5_row10_col2\" class=\"data row10 col2\" >1.629562</td>\n",
       "                        <td id=\"T_0fee5_row10_col3\" class=\"data row10 col3\" >-2.047277</td>\n",
       "            </tr>\n",
       "            <tr>\n",
       "                        <th id=\"T_0fee5_level0_row11\" class=\"row_heading level0 row11\" >Baishui</th>\n",
       "                        <td id=\"T_0fee5_row11_col0\" class=\"data row11 col0\" >-0.361050</td>\n",
       "                        <td id=\"T_0fee5_row11_col1\" class=\"data row11 col1\" >-0.933010</td>\n",
       "                        <td id=\"T_0fee5_row11_col2\" class=\"data row11 col2\" >-0.334714</td>\n",
       "                        <td id=\"T_0fee5_row11_col3\" class=\"data row11 col3\" >-0.166480</td>\n",
       "            </tr>\n",
       "            <tr>\n",
       "                        <th id=\"T_0fee5_level0_row12\" class=\"row_heading level0 row12\" >Makou</th>\n",
       "                        <td id=\"T_0fee5_row12_col0\" class=\"data row12 col0\" >0.559971</td>\n",
       "                        <td id=\"T_0fee5_row12_col1\" class=\"data row12 col1\" >-0.909544</td>\n",
       "                        <td id=\"T_0fee5_row12_col2\" class=\"data row12 col2\" >-0.446393</td>\n",
       "                        <td id=\"T_0fee5_row12_col3\" class=\"data row12 col3\" >2.159347</td>\n",
       "            </tr>\n",
       "            <tr>\n",
       "                        <th id=\"T_0fee5_level0_row13\" class=\"row_heading level0 row13\" >Shai</th>\n",
       "                        <td id=\"T_0fee5_row13_col0\" class=\"data row13 col0\" >-0.967686</td>\n",
       "                        <td id=\"T_0fee5_row13_col1\" class=\"data row13 col1\" >-0.908054</td>\n",
       "                        <td id=\"T_0fee5_row13_col2\" class=\"data row13 col2\" >1.250650</td>\n",
       "                        <td id=\"T_0fee5_row13_col3\" class=\"data row13 col3\" >-0.380515</td>\n",
       "            </tr>\n",
       "            <tr>\n",
       "                        <th id=\"T_0fee5_level0_row14\" class=\"row_heading level0 row14\" >Bali</th>\n",
       "                        <td id=\"T_0fee5_row14_col0\" class=\"data row14 col0\" >1.143268</td>\n",
       "                        <td id=\"T_0fee5_row14_col1\" class=\"data row14 col1\" >-0.761915</td>\n",
       "                        <td id=\"T_0fee5_row14_col2\" class=\"data row14 col2\" >-0.426055</td>\n",
       "                        <td id=\"T_0fee5_row14_col3\" class=\"data row14 col3\" >0.517732</td>\n",
       "            </tr>\n",
       "            <tr>\n",
       "                        <th id=\"T_0fee5_level0_row15\" class=\"row_heading level0 row15\" >Yuandang</th>\n",
       "                        <td id=\"T_0fee5_row15_col0\" class=\"data row15 col0\" >0.680914</td>\n",
       "                        <td id=\"T_0fee5_row15_col1\" class=\"data row15 col1\" >-0.716199</td>\n",
       "                        <td id=\"T_0fee5_row15_col2\" class=\"data row15 col2\" >-0.050386</td>\n",
       "                        <td id=\"T_0fee5_row15_col3\" class=\"data row15 col3\" >0.478942</td>\n",
       "            </tr>\n",
       "            <tr>\n",
       "                        <th id=\"T_0fee5_level0_row16\" class=\"row_heading level0 row16\" >Pogang</th>\n",
       "                        <td id=\"T_0fee5_row16_col0\" class=\"data row16 col0\" >-1.056611</td>\n",
       "                        <td id=\"T_0fee5_row16_col1\" class=\"data row16 col1\" >-0.649476</td>\n",
       "                        <td id=\"T_0fee5_row16_col2\" class=\"data row16 col2\" >-0.720172</td>\n",
       "                        <td id=\"T_0fee5_row16_col3\" class=\"data row16 col3\" >-1.154871</td>\n",
       "            </tr>\n",
       "            <tr>\n",
       "                        <th id=\"T_0fee5_level0_row17\" class=\"row_heading level0 row17\" >Guanlian</th>\n",
       "                        <td id=\"T_0fee5_row17_col0\" class=\"data row17 col0\" >-0.376270</td>\n",
       "                        <td id=\"T_0fee5_row17_col1\" class=\"data row17 col1\" >-0.625968</td>\n",
       "                        <td id=\"T_0fee5_row17_col2\" class=\"data row17 col2\" >-0.796899</td>\n",
       "                        <td id=\"T_0fee5_row17_col3\" class=\"data row17 col3\" >-1.025161</td>\n",
       "            </tr>\n",
       "            <tr>\n",
       "                        <th id=\"T_0fee5_level0_row18\" class=\"row_heading level0 row18\" >Bailian</th>\n",
       "                        <td id=\"T_0fee5_row18_col0\" class=\"data row18 col0\" >1.282573</td>\n",
       "                        <td id=\"T_0fee5_row18_col1\" class=\"data row18 col1\" >-0.590914</td>\n",
       "                        <td id=\"T_0fee5_row18_col2\" class=\"data row18 col2\" >-0.390166</td>\n",
       "                        <td id=\"T_0fee5_row18_col3\" class=\"data row18 col3\" >1.543616</td>\n",
       "            </tr>\n",
       "            <tr>\n",
       "                        <th id=\"T_0fee5_level0_row19\" class=\"row_heading level0 row19\" >Wang</th>\n",
       "                        <td id=\"T_0fee5_row19_col0\" class=\"data row19 col0\" >-0.079296</td>\n",
       "                        <td id=\"T_0fee5_row19_col1\" class=\"data row19 col1\" >-0.526199</td>\n",
       "                        <td id=\"T_0fee5_row19_col2\" class=\"data row19 col2\" >-1.480057</td>\n",
       "                        <td id=\"T_0fee5_row19_col3\" class=\"data row19 col3\" >-0.497345</td>\n",
       "            </tr>\n",
       "            <tr>\n",
       "                        <th id=\"T_0fee5_level0_row20\" class=\"row_heading level0 row20\" >Changbaidang</th>\n",
       "                        <td id=\"T_0fee5_row20_col0\" class=\"data row20 col0\" >0.784722</td>\n",
       "                        <td id=\"T_0fee5_row20_col1\" class=\"data row20 col1\" >-0.510410</td>\n",
       "                        <td id=\"T_0fee5_row20_col2\" class=\"data row20 col2\" >-0.058885</td>\n",
       "                        <td id=\"T_0fee5_row20_col3\" class=\"data row20 col3\" >1.178248</td>\n",
       "            </tr>\n",
       "            <tr>\n",
       "                        <th id=\"T_0fee5_level0_row21\" class=\"row_heading level0 row21\" >Kuncheng</th>\n",
       "                        <td id=\"T_0fee5_row21_col0\" class=\"data row21 col0\" >-0.023169</td>\n",
       "                        <td id=\"T_0fee5_row21_col1\" class=\"data row21 col1\" >-0.395818</td>\n",
       "                        <td id=\"T_0fee5_row21_col2\" class=\"data row21 col2\" >-0.245820</td>\n",
       "                        <td id=\"T_0fee5_row21_col3\" class=\"data row21 col3\" >0.392578</td>\n",
       "            </tr>\n",
       "            <tr>\n",
       "                        <th id=\"T_0fee5_level0_row22\" class=\"row_heading level0 row22\" >Changgang</th>\n",
       "                        <td id=\"T_0fee5_row22_col0\" class=\"data row22 col0\" >-0.712631</td>\n",
       "                        <td id=\"T_0fee5_row22_col1\" class=\"data row22 col1\" >-0.377059</td>\n",
       "                        <td id=\"T_0fee5_row22_col2\" class=\"data row22 col2\" >-0.048353</td>\n",
       "                        <td id=\"T_0fee5_row22_col3\" class=\"data row22 col3\" >-1.715308</td>\n",
       "            </tr>\n",
       "            <tr>\n",
       "                        <th id=\"T_0fee5_level0_row23\" class=\"row_heading level0 row23\" >Qili</th>\n",
       "                        <td id=\"T_0fee5_row23_col0\" class=\"data row23 col0\" >-1.021843</td>\n",
       "                        <td id=\"T_0fee5_row23_col1\" class=\"data row23 col1\" >-0.324271</td>\n",
       "                        <td id=\"T_0fee5_row23_col2\" class=\"data row23 col2\" >0.533956</td>\n",
       "                        <td id=\"T_0fee5_row23_col3\" class=\"data row23 col3\" >-0.011886</td>\n",
       "            </tr>\n",
       "            <tr>\n",
       "                        <th id=\"T_0fee5_level0_row24\" class=\"row_heading level0 row24\" >Zhusi</th>\n",
       "                        <td id=\"T_0fee5_row24_col0\" class=\"data row24 col0\" >-1.810144</td>\n",
       "                        <td id=\"T_0fee5_row24_col1\" class=\"data row24 col1\" >-0.282106</td>\n",
       "                        <td id=\"T_0fee5_row24_col2\" class=\"data row24 col2\" >-1.027543</td>\n",
       "                        <td id=\"T_0fee5_row24_col3\" class=\"data row24 col3\" >-0.894128</td>\n",
       "            </tr>\n",
       "            <tr>\n",
       "                        <th id=\"T_0fee5_level0_row25\" class=\"row_heading level0 row25\" >Yezhu</th>\n",
       "                        <td id=\"T_0fee5_row25_col0\" class=\"data row25 col0\" >-0.350092</td>\n",
       "                        <td id=\"T_0fee5_row25_col1\" class=\"data row25 col1\" >-0.223697</td>\n",
       "                        <td id=\"T_0fee5_row25_col2\" class=\"data row25 col2\" >-0.358287</td>\n",
       "                        <td id=\"T_0fee5_row25_col3\" class=\"data row25 col3\" >-0.392364</td>\n",
       "            </tr>\n",
       "            <tr>\n",
       "                        <th id=\"T_0fee5_level0_row26\" class=\"row_heading level0 row26\" >Dianshan</th>\n",
       "                        <td id=\"T_0fee5_row26_col0\" class=\"data row26 col0\" >0.870956</td>\n",
       "                        <td id=\"T_0fee5_row26_col1\" class=\"data row26 col1\" >-0.189606</td>\n",
       "                        <td id=\"T_0fee5_row26_col2\" class=\"data row26 col2\" >-0.029380</td>\n",
       "                        <td id=\"T_0fee5_row26_col3\" class=\"data row26 col3\" >1.090773</td>\n",
       "            </tr>\n",
       "            <tr>\n",
       "                        <th id=\"T_0fee5_level0_row27\" class=\"row_heading level0 row27\" >Chenyao</th>\n",
       "                        <td id=\"T_0fee5_row27_col0\" class=\"data row27 col0\" >-0.601120</td>\n",
       "                        <td id=\"T_0fee5_row27_col1\" class=\"data row27 col1\" >-0.090312</td>\n",
       "                        <td id=\"T_0fee5_row27_col2\" class=\"data row27 col2\" >0.776716</td>\n",
       "                        <td id=\"T_0fee5_row27_col3\" class=\"data row27 col3\" >-0.557982</td>\n",
       "            </tr>\n",
       "            <tr>\n",
       "                        <th id=\"T_0fee5_level0_row28\" class=\"row_heading level0 row28\" >Baoan</th>\n",
       "                        <td id=\"T_0fee5_row28_col0\" class=\"data row28 col0\" >-1.088158</td>\n",
       "                        <td id=\"T_0fee5_row28_col1\" class=\"data row28 col1\" >-0.066468</td>\n",
       "                        <td id=\"T_0fee5_row28_col2\" class=\"data row28 col2\" >-0.545243</td>\n",
       "                        <td id=\"T_0fee5_row28_col3\" class=\"data row28 col3\" >-1.361285</td>\n",
       "            </tr>\n",
       "            <tr>\n",
       "                        <th id=\"T_0fee5_level0_row29\" class=\"row_heading level0 row29\" >Ce</th>\n",
       "                        <td id=\"T_0fee5_row29_col0\" class=\"data row29 col0\" >-0.194807</td>\n",
       "                        <td id=\"T_0fee5_row29_col1\" class=\"data row29 col1\" >-0.056067</td>\n",
       "                        <td id=\"T_0fee5_row29_col2\" class=\"data row29 col2\" >0.091687</td>\n",
       "                        <td id=\"T_0fee5_row29_col3\" class=\"data row29 col3\" >-0.181227</td>\n",
       "            </tr>\n",
       "            <tr>\n",
       "                        <th id=\"T_0fee5_level0_row30\" class=\"row_heading level0 row30\" >Gucheng</th>\n",
       "                        <td id=\"T_0fee5_row30_col0\" class=\"data row30 col0\" >-1.042615</td>\n",
       "                        <td id=\"T_0fee5_row30_col1\" class=\"data row30 col1\" >0.013602</td>\n",
       "                        <td id=\"T_0fee5_row30_col2\" class=\"data row30 col2\" >0.093107</td>\n",
       "                        <td id=\"T_0fee5_row30_col3\" class=\"data row30 col3\" >-0.464998</td>\n",
       "            </tr>\n",
       "            <tr>\n",
       "                        <th id=\"T_0fee5_level0_row31\" class=\"row_heading level0 row31\" >Liancheng</th>\n",
       "                        <td id=\"T_0fee5_row31_col0\" class=\"data row31 col0\" >0.416740</td>\n",
       "                        <td id=\"T_0fee5_row31_col1\" class=\"data row31 col1\" >0.118438</td>\n",
       "                        <td id=\"T_0fee5_row31_col2\" class=\"data row31 col2\" >0.931501</td>\n",
       "                        <td id=\"T_0fee5_row31_col3\" class=\"data row31 col3\" >-0.214896</td>\n",
       "            </tr>\n",
       "            <tr>\n",
       "                        <th id=\"T_0fee5_level0_row32\" class=\"row_heading level0 row32\" >Nanxing</th>\n",
       "                        <td id=\"T_0fee5_row32_col0\" class=\"data row32 col0\" >1.458240</td>\n",
       "                        <td id=\"T_0fee5_row32_col1\" class=\"data row32 col1\" >0.228157</td>\n",
       "                        <td id=\"T_0fee5_row32_col2\" class=\"data row32 col2\" >0.155804</td>\n",
       "                        <td id=\"T_0fee5_row32_col3\" class=\"data row32 col3\" >1.553037</td>\n",
       "            </tr>\n",
       "            <tr>\n",
       "                        <th id=\"T_0fee5_level0_row33\" class=\"row_heading level0 row33\" >Sanyashi</th>\n",
       "                        <td id=\"T_0fee5_row33_col0\" class=\"data row33 col0\" >0.289636</td>\n",
       "                        <td id=\"T_0fee5_row33_col1\" class=\"data row33 col1\" >0.346720</td>\n",
       "                        <td id=\"T_0fee5_row33_col2\" class=\"data row33 col2\" >1.242795</td>\n",
       "                        <td id=\"T_0fee5_row33_col3\" class=\"data row33 col3\" >0.207354</td>\n",
       "            </tr>\n",
       "            <tr>\n",
       "                        <th id=\"T_0fee5_level0_row34\" class=\"row_heading level0 row34\" >Zhupo</th>\n",
       "                        <td id=\"T_0fee5_row34_col0\" class=\"data row34 col0\" >0.579114</td>\n",
       "                        <td id=\"T_0fee5_row34_col1\" class=\"data row34 col1\" >0.352563</td>\n",
       "                        <td id=\"T_0fee5_row34_col2\" class=\"data row34 col2\" >-2.201414</td>\n",
       "                        <td id=\"T_0fee5_row34_col3\" class=\"data row34 col3\" >0.279003</td>\n",
       "            </tr>\n",
       "            <tr>\n",
       "                        <th id=\"T_0fee5_level0_row35\" class=\"row_heading level0 row35\" >Jiuli</th>\n",
       "                        <td id=\"T_0fee5_row35_col0\" class=\"data row35 col0\" >0.966714</td>\n",
       "                        <td id=\"T_0fee5_row35_col1\" class=\"data row35 col1\" >0.373939</td>\n",
       "                        <td id=\"T_0fee5_row35_col2\" class=\"data row35 col2\" >-0.120925</td>\n",
       "                        <td id=\"T_0fee5_row35_col3\" class=\"data row35 col3\" >1.012021</td>\n",
       "            </tr>\n",
       "            <tr>\n",
       "                        <th id=\"T_0fee5_level0_row36\" class=\"row_heading level0 row36\" >Qingling</th>\n",
       "                        <td id=\"T_0fee5_row36_col0\" class=\"data row36 col0\" >0.782310</td>\n",
       "                        <td id=\"T_0fee5_row36_col1\" class=\"data row36 col1\" >0.442934</td>\n",
       "                        <td id=\"T_0fee5_row36_col2\" class=\"data row36 col2\" >0.105700</td>\n",
       "                        <td id=\"T_0fee5_row36_col3\" class=\"data row36 col3\" >1.014519</td>\n",
       "            </tr>\n",
       "            <tr>\n",
       "                        <th id=\"T_0fee5_level0_row37\" class=\"row_heading level0 row37\" >Shangshe</th>\n",
       "                        <td id=\"T_0fee5_row37_col0\" class=\"data row37 col0\" >-0.760193</td>\n",
       "                        <td id=\"T_0fee5_row37_col1\" class=\"data row37 col1\" >0.463019</td>\n",
       "                        <td id=\"T_0fee5_row37_col2\" class=\"data row37 col2\" >-1.692174</td>\n",
       "                        <td id=\"T_0fee5_row37_col3\" class=\"data row37 col3\" >-1.047521</td>\n",
       "            </tr>\n",
       "            <tr>\n",
       "                        <th id=\"T_0fee5_level0_row38\" class=\"row_heading level0 row38\" >Chidong</th>\n",
       "                        <td id=\"T_0fee5_row38_col0\" class=\"data row38 col0\" >1.000347</td>\n",
       "                        <td id=\"T_0fee5_row38_col1\" class=\"data row38 col1\" >0.475461</td>\n",
       "                        <td id=\"T_0fee5_row38_col2\" class=\"data row38 col2\" >-0.084920</td>\n",
       "                        <td id=\"T_0fee5_row38_col3\" class=\"data row38 col3\" >0.009675</td>\n",
       "            </tr>\n",
       "            <tr>\n",
       "                        <th id=\"T_0fee5_level0_row39\" class=\"row_heading level0 row39\" >Zhangdu</th>\n",
       "                        <td id=\"T_0fee5_row39_col0\" class=\"data row39 col0\" >-0.714041</td>\n",
       "                        <td id=\"T_0fee5_row39_col1\" class=\"data row39 col1\" >0.514622</td>\n",
       "                        <td id=\"T_0fee5_row39_col2\" class=\"data row39 col2\" >-0.240817</td>\n",
       "                        <td id=\"T_0fee5_row39_col3\" class=\"data row39 col3\" >-0.969721</td>\n",
       "            </tr>\n",
       "            <tr>\n",
       "                        <th id=\"T_0fee5_level0_row40\" class=\"row_heading level0 row40\" >Huangni</th>\n",
       "                        <td id=\"T_0fee5_row40_col0\" class=\"data row40 col0\" >0.074773</td>\n",
       "                        <td id=\"T_0fee5_row40_col1\" class=\"data row40 col1\" >0.538319</td>\n",
       "                        <td id=\"T_0fee5_row40_col2\" class=\"data row40 col2\" >2.100571</td>\n",
       "                        <td id=\"T_0fee5_row40_col3\" class=\"data row40 col3\" >0.221811</td>\n",
       "            </tr>\n",
       "            <tr>\n",
       "                        <th id=\"T_0fee5_level0_row41\" class=\"row_heading level0 row41\" >Nantan</th>\n",
       "                        <td id=\"T_0fee5_row41_col0\" class=\"data row41 col0\" >0.230423</td>\n",
       "                        <td id=\"T_0fee5_row41_col1\" class=\"data row41 col1\" >0.550561</td>\n",
       "                        <td id=\"T_0fee5_row41_col2\" class=\"data row41 col2\" >-1.458976</td>\n",
       "                        <td id=\"T_0fee5_row41_col3\" class=\"data row41 col3\" >0.414420</td>\n",
       "            </tr>\n",
       "            <tr>\n",
       "                        <th id=\"T_0fee5_level0_row42\" class=\"row_heading level0 row42\" >Baitan</th>\n",
       "                        <td id=\"T_0fee5_row42_col0\" class=\"data row42 col0\" >1.313083</td>\n",
       "                        <td id=\"T_0fee5_row42_col1\" class=\"data row42 col1\" >0.592735</td>\n",
       "                        <td id=\"T_0fee5_row42_col2\" class=\"data row42 col2\" >0.919000</td>\n",
       "                        <td id=\"T_0fee5_row42_col3\" class=\"data row42 col3\" >1.165773</td>\n",
       "            </tr>\n",
       "            <tr>\n",
       "                        <th id=\"T_0fee5_level0_row43\" class=\"row_heading level0 row43\" >Dong-WH</th>\n",
       "                        <td id=\"T_0fee5_row43_col0\" class=\"data row43 col0\" >0.781279</td>\n",
       "                        <td id=\"T_0fee5_row43_col1\" class=\"data row43 col1\" >0.652345</td>\n",
       "                        <td id=\"T_0fee5_row43_col2\" class=\"data row43 col2\" >-0.792080</td>\n",
       "                        <td id=\"T_0fee5_row43_col3\" class=\"data row43 col3\" >0.488417</td>\n",
       "            </tr>\n",
       "            <tr>\n",
       "                        <th id=\"T_0fee5_level0_row44\" class=\"row_heading level0 row44\" >Dapo</th>\n",
       "                        <td id=\"T_0fee5_row44_col0\" class=\"data row44 col0\" >0.029017</td>\n",
       "                        <td id=\"T_0fee5_row44_col1\" class=\"data row44 col1\" >0.682055</td>\n",
       "                        <td id=\"T_0fee5_row44_col2\" class=\"data row44 col2\" >-0.431412</td>\n",
       "                        <td id=\"T_0fee5_row44_col3\" class=\"data row44 col3\" >0.176335</td>\n",
       "            </tr>\n",
       "            <tr>\n",
       "                        <th id=\"T_0fee5_level0_row45\" class=\"row_heading level0 row45\" >Shaobo</th>\n",
       "                        <td id=\"T_0fee5_row45_col0\" class=\"data row45 col0\" >-0.108204</td>\n",
       "                        <td id=\"T_0fee5_row45_col1\" class=\"data row45 col1\" >0.818052</td>\n",
       "                        <td id=\"T_0fee5_row45_col2\" class=\"data row45 col2\" >0.001031</td>\n",
       "                        <td id=\"T_0fee5_row45_col3\" class=\"data row45 col3\" >0.366315</td>\n",
       "            </tr>\n",
       "            <tr>\n",
       "                        <th id=\"T_0fee5_level0_row46\" class=\"row_heading level0 row46\" >Wushan</th>\n",
       "                        <td id=\"T_0fee5_row46_col0\" class=\"data row46 col0\" >1.760019</td>\n",
       "                        <td id=\"T_0fee5_row46_col1\" class=\"data row46 col1\" >0.818279</td>\n",
       "                        <td id=\"T_0fee5_row46_col2\" class=\"data row46 col2\" >0.276558</td>\n",
       "                        <td id=\"T_0fee5_row46_col3\" class=\"data row46 col3\" >1.793753</td>\n",
       "            </tr>\n",
       "            <tr>\n",
       "                        <th id=\"T_0fee5_level0_row47\" class=\"row_heading level0 row47\" >Wangmu</th>\n",
       "                        <td id=\"T_0fee5_row47_col0\" class=\"data row47 col0\" >-0.819550</td>\n",
       "                        <td id=\"T_0fee5_row47_col1\" class=\"data row47 col1\" >1.079259</td>\n",
       "                        <td id=\"T_0fee5_row47_col2\" class=\"data row47 col2\" >-0.203941</td>\n",
       "                        <td id=\"T_0fee5_row47_col3\" class=\"data row47 col3\" >0.054338</td>\n",
       "            </tr>\n",
       "            <tr>\n",
       "                        <th id=\"T_0fee5_level0_row48\" class=\"row_heading level0 row48\" >Huangjia</th>\n",
       "                        <td id=\"T_0fee5_row48_col0\" class=\"data row48 col0\" >1.310240</td>\n",
       "                        <td id=\"T_0fee5_row48_col1\" class=\"data row48 col1\" >1.137235</td>\n",
       "                        <td id=\"T_0fee5_row48_col2\" class=\"data row48 col2\" >0.053371</td>\n",
       "                        <td id=\"T_0fee5_row48_col3\" class=\"data row48 col3\" >0.600217</td>\n",
       "            </tr>\n",
       "            <tr>\n",
       "                        <th id=\"T_0fee5_level0_row49\" class=\"row_heading level0 row49\" >Xinmiao</th>\n",
       "                        <td id=\"T_0fee5_row49_col0\" class=\"data row49 col0\" >-0.147794</td>\n",
       "                        <td id=\"T_0fee5_row49_col1\" class=\"data row49 col1\" >1.268671</td>\n",
       "                        <td id=\"T_0fee5_row49_col2\" class=\"data row49 col2\" >2.766482</td>\n",
       "                        <td id=\"T_0fee5_row49_col3\" class=\"data row49 col3\" >-0.179286</td>\n",
       "            </tr>\n",
       "            <tr>\n",
       "                        <th id=\"T_0fee5_level0_row50\" class=\"row_heading level0 row50\" >Shengjin</th>\n",
       "                        <td id=\"T_0fee5_row50_col0\" class=\"data row50 col0\" >0.282306</td>\n",
       "                        <td id=\"T_0fee5_row50_col1\" class=\"data row50 col1\" >1.330132</td>\n",
       "                        <td id=\"T_0fee5_row50_col2\" class=\"data row50 col2\" >2.415120</td>\n",
       "                        <td id=\"T_0fee5_row50_col3\" class=\"data row50 col3\" >0.097606</td>\n",
       "            </tr>\n",
       "            <tr>\n",
       "                        <th id=\"T_0fee5_level0_row51\" class=\"row_heading level0 row51\" >Dong-HG</th>\n",
       "                        <td id=\"T_0fee5_row51_col0\" class=\"data row51 col0\" >1.789240</td>\n",
       "                        <td id=\"T_0fee5_row51_col1\" class=\"data row51 col1\" >1.459385</td>\n",
       "                        <td id=\"T_0fee5_row51_col2\" class=\"data row51 col2\" >0.417464</td>\n",
       "                        <td id=\"T_0fee5_row51_col3\" class=\"data row51 col3\" >1.302413</td>\n",
       "            </tr>\n",
       "            <tr>\n",
       "                        <th id=\"T_0fee5_level0_row52\" class=\"row_heading level0 row52\" >Tangxun</th>\n",
       "                        <td id=\"T_0fee5_row52_col0\" class=\"data row52 col0\" >0.333279</td>\n",
       "                        <td id=\"T_0fee5_row52_col1\" class=\"data row52 col1\" >1.727752</td>\n",
       "                        <td id=\"T_0fee5_row52_col2\" class=\"data row52 col2\" >0.341818</td>\n",
       "                        <td id=\"T_0fee5_row52_col3\" class=\"data row52 col3\" >-0.065613</td>\n",
       "            </tr>\n",
       "            <tr>\n",
       "                        <th id=\"T_0fee5_level0_row53\" class=\"row_heading level0 row53\" >Sanjiao</th>\n",
       "                        <td id=\"T_0fee5_row53_col0\" class=\"data row53 col0\" >1.732424</td>\n",
       "                        <td id=\"T_0fee5_row53_col1\" class=\"data row53 col1\" >1.941414</td>\n",
       "                        <td id=\"T_0fee5_row53_col2\" class=\"data row53 col2\" >0.534961</td>\n",
       "                        <td id=\"T_0fee5_row53_col3\" class=\"data row53 col3\" >1.984429</td>\n",
       "            </tr>\n",
       "            <tr>\n",
       "                        <th id=\"T_0fee5_level0_row54\" class=\"row_heading level0 row54\" >Zhulin</th>\n",
       "                        <td id=\"T_0fee5_row54_col0\" class=\"data row54 col0\" >1.795379</td>\n",
       "                        <td id=\"T_0fee5_row54_col1\" class=\"data row54 col1\" >2.146407</td>\n",
       "                        <td id=\"T_0fee5_row54_col2\" class=\"data row54 col2\" >-0.932430</td>\n",
       "                        <td id=\"T_0fee5_row54_col3\" class=\"data row54 col3\" >1.124251</td>\n",
       "            </tr>\n",
       "            <tr>\n",
       "                        <th id=\"T_0fee5_level0_row55\" class=\"row_heading level0 row55\" >Xuanwu</th>\n",
       "                        <td id=\"T_0fee5_row55_col0\" class=\"data row55 col0\" >-0.054082</td>\n",
       "                        <td id=\"T_0fee5_row55_col1\" class=\"data row55 col1\" >2.794207</td>\n",
       "                        <td id=\"T_0fee5_row55_col2\" class=\"data row55 col2\" >-1.234993</td>\n",
       "                        <td id=\"T_0fee5_row55_col3\" class=\"data row55 col3\" >-0.130337</td>\n",
       "            </tr>\n",
       "    </tbody></table>"
      ],
      "text/plain": [
       "<pandas.io.formats.style.Styler at 0x7fb6ab184100>"
      ]
     },
     "execution_count": 305,
     "metadata": {},
     "output_type": "execute_result"
    }
   ],
   "source": [
    "log_data_frame.apply(zscore).style.applymap(lambda x: 'background-color : red' if abs(x)>3 else '')\n",
    "#to remove outliers\n",
    "# z_scores = zscore(log_data_frame)\n",
    "# filtered_entries = (np.abs(z_scores) < 3).all(axis=1)\n",
    "# new_df = data_frame[filtered_entries]"
   ]
  },
  {
   "cell_type": "code",
   "execution_count": 158,
   "metadata": {},
   "outputs": [],
   "source": [
    "X = log_data_frame.drop(['Chlaμgl', 'PCugL', 'DOCmgL'], axis=1) \n",
    "y = log_data_frame['Chlaμgl']\n",
    "X_train, X_test, y_train, y_test = train_test_split(X, y, test_size=0.2, random_state=42)"
   ]
  },
  {
   "cell_type": "code",
   "execution_count": 159,
   "metadata": {},
   "outputs": [
    {
     "name": "stdout",
     "output_type": "stream",
     "text": [
      "(44, 1)\n",
      "(12, 1)\n",
      "(44,)\n",
      "(12,)\n"
     ]
    }
   ],
   "source": [
    "print(X_train.shape)\n",
    "print(X_test.shape)\n",
    "print(y_train.shape)\n",
    "print(y_test.shape)"
   ]
  },
  {
   "cell_type": "code",
   "execution_count": 160,
   "metadata": {},
   "outputs": [
    {
     "data": {
      "text/html": [
       "<style>#sk-container-id-6 {color: black;background-color: white;}#sk-container-id-6 pre{padding: 0;}#sk-container-id-6 div.sk-toggleable {background-color: white;}#sk-container-id-6 label.sk-toggleable__label {cursor: pointer;display: block;width: 100%;margin-bottom: 0;padding: 0.3em;box-sizing: border-box;text-align: center;}#sk-container-id-6 label.sk-toggleable__label-arrow:before {content: \"▸\";float: left;margin-right: 0.25em;color: #696969;}#sk-container-id-6 label.sk-toggleable__label-arrow:hover:before {color: black;}#sk-container-id-6 div.sk-estimator:hover label.sk-toggleable__label-arrow:before {color: black;}#sk-container-id-6 div.sk-toggleable__content {max-height: 0;max-width: 0;overflow: hidden;text-align: left;background-color: #f0f8ff;}#sk-container-id-6 div.sk-toggleable__content pre {margin: 0.2em;color: black;border-radius: 0.25em;background-color: #f0f8ff;}#sk-container-id-6 input.sk-toggleable__control:checked~div.sk-toggleable__content {max-height: 200px;max-width: 100%;overflow: auto;}#sk-container-id-6 input.sk-toggleable__control:checked~label.sk-toggleable__label-arrow:before {content: \"▾\";}#sk-container-id-6 div.sk-estimator input.sk-toggleable__control:checked~label.sk-toggleable__label {background-color: #d4ebff;}#sk-container-id-6 div.sk-label input.sk-toggleable__control:checked~label.sk-toggleable__label {background-color: #d4ebff;}#sk-container-id-6 input.sk-hidden--visually {border: 0;clip: rect(1px 1px 1px 1px);clip: rect(1px, 1px, 1px, 1px);height: 1px;margin: -1px;overflow: hidden;padding: 0;position: absolute;width: 1px;}#sk-container-id-6 div.sk-estimator {font-family: monospace;background-color: #f0f8ff;border: 1px dotted black;border-radius: 0.25em;box-sizing: border-box;margin-bottom: 0.5em;}#sk-container-id-6 div.sk-estimator:hover {background-color: #d4ebff;}#sk-container-id-6 div.sk-parallel-item::after {content: \"\";width: 100%;border-bottom: 1px solid gray;flex-grow: 1;}#sk-container-id-6 div.sk-label:hover label.sk-toggleable__label {background-color: #d4ebff;}#sk-container-id-6 div.sk-serial::before {content: \"\";position: absolute;border-left: 1px solid gray;box-sizing: border-box;top: 0;bottom: 0;left: 50%;z-index: 0;}#sk-container-id-6 div.sk-serial {display: flex;flex-direction: column;align-items: center;background-color: white;padding-right: 0.2em;padding-left: 0.2em;position: relative;}#sk-container-id-6 div.sk-item {position: relative;z-index: 1;}#sk-container-id-6 div.sk-parallel {display: flex;align-items: stretch;justify-content: center;background-color: white;position: relative;}#sk-container-id-6 div.sk-item::before, #sk-container-id-6 div.sk-parallel-item::before {content: \"\";position: absolute;border-left: 1px solid gray;box-sizing: border-box;top: 0;bottom: 0;left: 50%;z-index: -1;}#sk-container-id-6 div.sk-parallel-item {display: flex;flex-direction: column;z-index: 1;position: relative;background-color: white;}#sk-container-id-6 div.sk-parallel-item:first-child::after {align-self: flex-end;width: 50%;}#sk-container-id-6 div.sk-parallel-item:last-child::after {align-self: flex-start;width: 50%;}#sk-container-id-6 div.sk-parallel-item:only-child::after {width: 0;}#sk-container-id-6 div.sk-dashed-wrapped {border: 1px dashed gray;margin: 0 0.4em 0.5em 0.4em;box-sizing: border-box;padding-bottom: 0.4em;background-color: white;}#sk-container-id-6 div.sk-label label {font-family: monospace;font-weight: bold;display: inline-block;line-height: 1.2em;}#sk-container-id-6 div.sk-label-container {text-align: center;}#sk-container-id-6 div.sk-container {/* jupyter's `normalize.less` sets `[hidden] { display: none; }` but bootstrap.min.css set `[hidden] { display: none !important; }` so we also need the `!important` here to be able to override the default hidden behavior on the sphinx rendered scikit-learn.org. See: https://github.com/scikit-learn/scikit-learn/issues/21755 */display: inline-block !important;position: relative;}#sk-container-id-6 div.sk-text-repr-fallback {display: none;}</style><div id=\"sk-container-id-6\" class=\"sk-top-container\"><div class=\"sk-text-repr-fallback\"><pre>LinearRegression()</pre><b>In a Jupyter environment, please rerun this cell to show the HTML representation or trust the notebook. <br />On GitHub, the HTML representation is unable to render, please try loading this page with nbviewer.org.</b></div><div class=\"sk-container\" hidden><div class=\"sk-item\"><div class=\"sk-estimator sk-toggleable\"><input class=\"sk-toggleable__control sk-hidden--visually\" id=\"sk-estimator-id-6\" type=\"checkbox\" checked><label for=\"sk-estimator-id-6\" class=\"sk-toggleable__label sk-toggleable__label-arrow\">LinearRegression</label><div class=\"sk-toggleable__content\"><pre>LinearRegression()</pre></div></div></div></div></div>"
      ],
      "text/plain": [
       "LinearRegression()"
      ]
     },
     "execution_count": 160,
     "metadata": {},
     "output_type": "execute_result"
    }
   ],
   "source": [
    "Chla_TP_model = LinearRegression() \n",
    "Chla_TP_model.fit(X_train, y_train)"
   ]
  },
  {
   "cell_type": "code",
   "execution_count": 161,
   "metadata": {},
   "outputs": [
    {
     "name": "stdout",
     "output_type": "stream",
     "text": [
      "Actual Chlorophyll concentration:  1.1962341239652075\n",
      "Model Predicted concentration:  1.1983580954962698\n"
     ]
    }
   ],
   "source": [
    "predictions = Chla_TP_model.predict(X_test)  \n",
    "\n",
    "print(\"Actual Chlorophyll concentration: \", y_test[0]) \n",
    "print(\"Model Predicted concentration: \", predictions[0])"
   ]
  },
  {
   "cell_type": "code",
   "execution_count": 162,
   "metadata": {},
   "outputs": [],
   "source": [
    "mse = mean_squared_error(y_test, predictions) \n",
    "rmse = np.sqrt(mse)\n",
    "r2 = r2_score(y_test, predictions)"
   ]
  },
  {
   "cell_type": "code",
   "execution_count": 163,
   "metadata": {},
   "outputs": [
    {
     "name": "stdout",
     "output_type": "stream",
     "text": [
      "The coefficient is [1.0654903]\n",
      "The intercept is 2.73250874025976\n",
      "Root mean squared error of the model is 0.22926179583424752.\n",
      "R-squared score is 0.5509791479697037.\n"
     ]
    }
   ],
   "source": [
    "print('The coefficient is {}'.format(Chla_TP_model.coef_))\n",
    "print('The intercept is {}'.format(Chla_TP_model.intercept_))\n",
    "print('Root mean squared error of the model is {}.'.format(rmse))\n",
    "print('R-squared score is {}.'.format(r2))"
   ]
  },
  {
   "cell_type": "code",
   "execution_count": 165,
   "metadata": {},
   "outputs": [],
   "source": [
    "X = log_data_frame.drop(['Chlaμgl'], axis=1) \n",
    "y = log_data_frame['Chlaμgl']\n",
    "X_train, X_test, y_train, y_test = train_test_split(X, y, test_size=0.2, random_state=42)"
   ]
  },
  {
   "cell_type": "code",
   "execution_count": null,
   "metadata": {},
   "outputs": [],
   "source": []
  },
  {
   "cell_type": "code",
   "execution_count": 166,
   "metadata": {},
   "outputs": [
    {
     "name": "stdout",
     "output_type": "stream",
     "text": [
      "(44, 3)\n",
      "(12, 3)\n",
      "(44,)\n",
      "(12,)\n"
     ]
    }
   ],
   "source": [
    "print(X_train.shape)\n",
    "print(X_test.shape)\n",
    "print(y_train.shape)\n",
    "print(y_test.shape)"
   ]
  },
  {
   "cell_type": "code",
   "execution_count": 167,
   "metadata": {},
   "outputs": [
    {
     "data": {
      "text/html": [
       "<style>#sk-container-id-7 {color: black;background-color: white;}#sk-container-id-7 pre{padding: 0;}#sk-container-id-7 div.sk-toggleable {background-color: white;}#sk-container-id-7 label.sk-toggleable__label {cursor: pointer;display: block;width: 100%;margin-bottom: 0;padding: 0.3em;box-sizing: border-box;text-align: center;}#sk-container-id-7 label.sk-toggleable__label-arrow:before {content: \"▸\";float: left;margin-right: 0.25em;color: #696969;}#sk-container-id-7 label.sk-toggleable__label-arrow:hover:before {color: black;}#sk-container-id-7 div.sk-estimator:hover label.sk-toggleable__label-arrow:before {color: black;}#sk-container-id-7 div.sk-toggleable__content {max-height: 0;max-width: 0;overflow: hidden;text-align: left;background-color: #f0f8ff;}#sk-container-id-7 div.sk-toggleable__content pre {margin: 0.2em;color: black;border-radius: 0.25em;background-color: #f0f8ff;}#sk-container-id-7 input.sk-toggleable__control:checked~div.sk-toggleable__content {max-height: 200px;max-width: 100%;overflow: auto;}#sk-container-id-7 input.sk-toggleable__control:checked~label.sk-toggleable__label-arrow:before {content: \"▾\";}#sk-container-id-7 div.sk-estimator input.sk-toggleable__control:checked~label.sk-toggleable__label {background-color: #d4ebff;}#sk-container-id-7 div.sk-label input.sk-toggleable__control:checked~label.sk-toggleable__label {background-color: #d4ebff;}#sk-container-id-7 input.sk-hidden--visually {border: 0;clip: rect(1px 1px 1px 1px);clip: rect(1px, 1px, 1px, 1px);height: 1px;margin: -1px;overflow: hidden;padding: 0;position: absolute;width: 1px;}#sk-container-id-7 div.sk-estimator {font-family: monospace;background-color: #f0f8ff;border: 1px dotted black;border-radius: 0.25em;box-sizing: border-box;margin-bottom: 0.5em;}#sk-container-id-7 div.sk-estimator:hover {background-color: #d4ebff;}#sk-container-id-7 div.sk-parallel-item::after {content: \"\";width: 100%;border-bottom: 1px solid gray;flex-grow: 1;}#sk-container-id-7 div.sk-label:hover label.sk-toggleable__label {background-color: #d4ebff;}#sk-container-id-7 div.sk-serial::before {content: \"\";position: absolute;border-left: 1px solid gray;box-sizing: border-box;top: 0;bottom: 0;left: 50%;z-index: 0;}#sk-container-id-7 div.sk-serial {display: flex;flex-direction: column;align-items: center;background-color: white;padding-right: 0.2em;padding-left: 0.2em;position: relative;}#sk-container-id-7 div.sk-item {position: relative;z-index: 1;}#sk-container-id-7 div.sk-parallel {display: flex;align-items: stretch;justify-content: center;background-color: white;position: relative;}#sk-container-id-7 div.sk-item::before, #sk-container-id-7 div.sk-parallel-item::before {content: \"\";position: absolute;border-left: 1px solid gray;box-sizing: border-box;top: 0;bottom: 0;left: 50%;z-index: -1;}#sk-container-id-7 div.sk-parallel-item {display: flex;flex-direction: column;z-index: 1;position: relative;background-color: white;}#sk-container-id-7 div.sk-parallel-item:first-child::after {align-self: flex-end;width: 50%;}#sk-container-id-7 div.sk-parallel-item:last-child::after {align-self: flex-start;width: 50%;}#sk-container-id-7 div.sk-parallel-item:only-child::after {width: 0;}#sk-container-id-7 div.sk-dashed-wrapped {border: 1px dashed gray;margin: 0 0.4em 0.5em 0.4em;box-sizing: border-box;padding-bottom: 0.4em;background-color: white;}#sk-container-id-7 div.sk-label label {font-family: monospace;font-weight: bold;display: inline-block;line-height: 1.2em;}#sk-container-id-7 div.sk-label-container {text-align: center;}#sk-container-id-7 div.sk-container {/* jupyter's `normalize.less` sets `[hidden] { display: none; }` but bootstrap.min.css set `[hidden] { display: none !important; }` so we also need the `!important` here to be able to override the default hidden behavior on the sphinx rendered scikit-learn.org. See: https://github.com/scikit-learn/scikit-learn/issues/21755 */display: inline-block !important;position: relative;}#sk-container-id-7 div.sk-text-repr-fallback {display: none;}</style><div id=\"sk-container-id-7\" class=\"sk-top-container\"><div class=\"sk-text-repr-fallback\"><pre>LinearRegression()</pre><b>In a Jupyter environment, please rerun this cell to show the HTML representation or trust the notebook. <br />On GitHub, the HTML representation is unable to render, please try loading this page with nbviewer.org.</b></div><div class=\"sk-container\" hidden><div class=\"sk-item\"><div class=\"sk-estimator sk-toggleable\"><input class=\"sk-toggleable__control sk-hidden--visually\" id=\"sk-estimator-id-7\" type=\"checkbox\" checked><label for=\"sk-estimator-id-7\" class=\"sk-toggleable__label sk-toggleable__label-arrow\">LinearRegression</label><div class=\"sk-toggleable__content\"><pre>LinearRegression()</pre></div></div></div></div></div>"
      ],
      "text/plain": [
       "LinearRegression()"
      ]
     },
     "execution_count": 167,
     "metadata": {},
     "output_type": "execute_result"
    }
   ],
   "source": [
    "Chla_TP_PCmodel = LinearRegression() \n",
    "Chla_TP_PCmodel.fit(X_train, y_train)"
   ]
  },
  {
   "cell_type": "code",
   "execution_count": 168,
   "metadata": {},
   "outputs": [
    {
     "name": "stdout",
     "output_type": "stream",
     "text": [
      "Actual Chlorophyll concentration:  1.1962341239652075\n",
      "Model Predicted concentration:  1.0916424980383386\n"
     ]
    }
   ],
   "source": [
    "predictions = Chla_TP_PCmodel.predict(X_test)  \n",
    "\n",
    "print(\"Actual Chlorophyll concentration: \", y_test[0]) \n",
    "print(\"Model Predicted concentration: \", predictions[0])"
   ]
  },
  {
   "cell_type": "code",
   "execution_count": 169,
   "metadata": {},
   "outputs": [
    {
     "name": "stdout",
     "output_type": "stream",
     "text": [
      "The coefficient is [ 0.1357634  -0.25870959  1.01854803]\n",
      "The intercept is 2.8399911806945974\n",
      "Root mean squared error of the model is 0.19695495516243297.\n",
      "R-squared score is 0.6686118664787162.\n"
     ]
    }
   ],
   "source": [
    "mse = mean_squared_error(y_test, predictions) \n",
    "rmse = np.sqrt(mse)\n",
    "r2 = r2_score(y_test, predictions)\n",
    "\n",
    "print('The coefficient is {}'.format(Chla_TP_PCmodel.coef_))\n",
    "print('The intercept is {}'.format(Chla_TP_PCmodel.intercept_))\n",
    "print('Root mean squared error of the model is {}.'.format(rmse))\n",
    "print('R-squared score is {}.'.format(r2))"
   ]
  },
  {
   "cell_type": "code",
   "execution_count": 198,
   "metadata": {},
   "outputs": [],
   "source": [
    "# import plotly.express as px\n",
    "# fig = px.scatter_3d(log_data_frame, x='PCugL', y='Chlaμgl', z='TPmgl')\n",
    "# # fig = px.line_3d([1,2],[23,4])\n",
    "# fig.show()"
   ]
  },
  {
   "cell_type": "code",
   "execution_count": 265,
   "metadata": {},
   "outputs": [
    {
     "data": {
      "text/plain": [
       "rating      6.75\n",
       "points      5.75\n",
       "assists     2.50\n",
       "rebounds    3.75\n",
       "dtype: float64"
      ]
     },
     "execution_count": 265,
     "metadata": {},
     "output_type": "execute_result"
    }
   ],
   "source": [
    "df = pd.DataFrame({'rating': [90, 85, 82, 88, 94, 90, 76, 75, 87, 86],\n",
    "                   'points': [25, 20, 14, 16, 27, 20, 12, 15, 14, 19],\n",
    "                   'assists': [5, 7, 7, 8, 5, 7, 6, 9, 9, 5],\n",
    "                   'rebounds': [11, 8, 10, 6, 6, 9, 6, 10, 10, 7]})\n",
    "def find_iqr(x):\n",
    "  return np.subtract(*np.percentile(x, [75, 25]))\n",
    "df.apply(find_iqr)\n"
   ]
  }
 ],
 "metadata": {
  "kernelspec": {
   "display_name": "Python 3.8.8 ('base')",
   "language": "python",
   "name": "python3"
  },
  "language_info": {
   "codemirror_mode": {
    "name": "ipython",
    "version": 3
   },
   "file_extension": ".py",
   "mimetype": "text/x-python",
   "name": "python",
   "nbconvert_exporter": "python",
   "pygments_lexer": "ipython3",
   "version": "3.8.8"
  },
  "orig_nbformat": 4,
  "vscode": {
   "interpreter": {
    "hash": "73df3d2a648ddfe6e132dd0b2981f8c5ee01eb57f65aaa52301d101a94b0ebb5"
   }
  }
 },
 "nbformat": 4,
 "nbformat_minor": 2
}
