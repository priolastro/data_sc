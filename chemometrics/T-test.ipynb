{
 "cells": [
  {
   "cell_type": "code",
   "execution_count": 320,
   "metadata": {},
   "outputs": [],
   "source": [
    "import pandas as pd\n",
    "import seaborn as sns \n",
    "import matplotlib.pyplot as plt\n",
    "import scipy.stats\n",
    "from scipy.stats import ttest_ind, ttest_rel\n",
    "import numpy as np"
   ]
  },
  {
   "cell_type": "code",
   "execution_count": 321,
   "metadata": {},
   "outputs": [],
   "source": [
    "data_frame = pd.read_excel('/Users/salvatoreprioli/Documents/ML_/chemometrics/data-sets/Datasets_1.xlsx', sheet_name=0)"
   ]
  },
  {
   "cell_type": "code",
   "execution_count": 322,
   "metadata": {},
   "outputs": [
    {
     "name": "stdout",
     "output_type": "stream",
     "text": [
      "Data Keys: \n",
      " Index(['lake', '04Long.', '04Lat.', 'Temperature', 'Depth /m', 'Area /km2',\n",
      "       'area/depth', 'p_cult', 'p_past', 'p-rice', 'p-urban', 'p_irrig',\n",
      "       'pdens', 'Chlaμgl', 'SPMmgL', 'SPIM', 'SPOM', 'SPOMSPM', 'SPOMSPIM',\n",
      "       'PCugL', 'PCChla', 'DOCmgL', 'POCµgl', 'DOC_POC', 'TPmgl',\n",
      "       'Transparencym', 'Chla/POC', 'Unnamed: 27', 'Unnamed: 28'],\n",
      "      dtype='object')\n"
     ]
    }
   ],
   "source": [
    "# print(\"The shape of the data is:\\n\", data_frame.shape)\n",
    "# print(\"Data info: \\n\", data_frame.info())\n",
    "# print(\"Data facts: \\n\", data_frame.describe())\n",
    "print(\"Data Keys: \\n\", data_frame.keys())\n"
   ]
  },
  {
   "cell_type": "code",
   "execution_count": 323,
   "metadata": {},
   "outputs": [
    {
     "name": "stdout",
     "output_type": "stream",
     "text": [
      "Skewness: 0.037\n",
      "Kurtosis: -1.33\n",
      "Skewness: 0.104\n",
      "Kurtosis: -1.03\n"
     ]
    },
    {
     "data": {
      "image/png": "[encoded data removed]",
      "text/plain": [
       "<Figure size 360x360 with 1 Axes>"
      ]
     },
     "metadata": {
      "needs_background": "light"
     },
     "output_type": "display_data"
    },
    {
     "data": {
      "image/png": "[encoded data removed]",
      "text/plain": [
       "<Figure size 360x360 with 1 Axes>"
      ]
     },
     "metadata": {
      "needs_background": "light"
     },
     "output_type": "display_data"
    }
   ],
   "source": [
    "sns.displot(data_frame['p_past'], bins=19)\n",
    "sns.displot(data_frame['p_irrig'], bins=19)\n",
    "print(\"Skewness: %0.3f\" % data_frame['p_past'].skew())\n",
    "print(\"Kurtosis: %0.2f\" % data_frame['p_past'].kurt())\n",
    "print(\"Skewness: %0.3f\" % data_frame['p_irrig'].skew())\n",
    "print(\"Kurtosis: %0.2f\" % data_frame['p_irrig'].kurt())\n"
   ]
  },
  {
   "cell_type": "code",
   "execution_count": 326,
   "metadata": {},
   "outputs": [
    {
     "name": "stdout",
     "output_type": "stream",
     "text": [
      "Mean 0.283834, 0.269107\n",
      "Variance 0.034986, 0.032663\n",
      "Observations 56, 56\n",
      "Pearson's correlation -0.155\n",
      "Hypothesis Mean Difference 0\n",
      "T-Satistic 0.394294\n",
      "p-value (one-tail) 0.347444\n",
      "p-value (two-tail) 0.694889\n",
      "-1.6746891532047912\n"
     ]
    }
   ],
   "source": [
    "def data_analysis_t_test_table(set1,set2,correlation='pearson'):\n",
    "    print('Mean {:<0.6f}, {:>0.6f}'.format(data_frame[set1].mean(),data_frame[set2].mean()))\n",
    "    print('Variance {:<0.6f}, {:>0.6f}'.format(data_frame[set1].var(),data_frame[set2].var(),))\n",
    "    print('Observations {:<d}, {:>d}'.format(data_frame[set1].count(),data_frame[set2].count(),))\n",
    "    print('Pearson\\'s correlation {:^0.3f}'.format(data_frame[[set1,set2]].corr(method=correlation)[set1].iloc[1]))\n",
    "    print('Hypothesis Mean Difference {:^0.0f}'.format(data_frame[set1].mean()-data_frame[set2].mean()))\n",
    "    print('T-Satistic {:^0.6f}'.format(ttest_rel(data_frame[set1],data_frame[set2])[0]))\n",
    "    print('p-value (one-tail) {:^0.6f}'.format(ttest_rel(data_frame[set1],data_frame[set2])[1]*0.5))\n",
    "    print('p-value (two-tail) {:^0.6f}'.format(ttest_rel(data_frame[set1],data_frame[set2])[1]))\n",
    "    print(scipy.stats.t.ppf(q=.05,df=52))\n",
    "\n",
    "data_analysis_t_test_table('p_past','p_irrig')\n",
    "\n"
   ]
  },
  {
   "cell_type": "code",
   "execution_count": 179,
   "metadata": {},
   "outputs": [],
   "source": [
    "data_frame = pd.read_excel('/Users/salvatoreprioli/Documents/ML_/chemometrics/data-sets/Datasets_1.xlsx', sheet_name=1)"
   ]
  },
  {
   "cell_type": "code",
   "execution_count": 181,
   "metadata": {},
   "outputs": [
    {
     "data": {
      "text/plain": [
       "Index(['Sample ID', 'Sample Date', 'Location', 'Latitude', 'Longitude',\n",
       "       'Freshwater body type',\n",
       "       'a) What is the land use in the immediate surroundings?', 'Other',\n",
       "       'b) Are there any pollution sources in the immediate surroundings? (select all that apply)',\n",
       "       'Other.1', 'Residential', 'Urban', 'Industrial', 'Other.2', 'Boat',\n",
       "       'Agri', 'Sum of pollution sources',\n",
       "       'd) What is the bank vegetation? (select all that apply)', 'Other.3',\n",
       "       'bankveg1', 'a) Estimate the water flow', 'b) Estimate the water level',\n",
       "       'a) Estimate the water colour', 'Other.4', 'Colour1',\n",
       "       'b) Is there any of the following on the water surface?',\n",
       "       'c) Is the algae...', 'Algae1', 'Nitrate_mg/L', 'Phosphate mg/L',\n",
       "       'Turbdity_NTU', 'GIS_OBJECTID', 'P_FertGlobal', 'N_FertGlobal',\n",
       "       'population density', 'ArtificialSurfaces', 'Cropland', 'Grassland',\n",
       "       'TreeCovered', 'ShrubCovered', 'HerbVegAquac', 'SparseVeg', 'Baresoil',\n",
       "       'SnowGlaciers', 'DOM', 'Precip', 'cats'],\n",
       "      dtype='object')"
      ]
     },
     "execution_count": 181,
     "metadata": {},
     "output_type": "execute_result"
    }
   ],
   "source": [
    "data_frame.keys()"
   ]
  },
  {
   "cell_type": "code",
   "execution_count": 279,
   "metadata": {},
   "outputs": [],
   "source": [
    "nitrate_data_frame = data_frame[['Nitrate_mg/L', 'Colour1']]\n",
    "nitrate_data_frame = nitrate_data_frame.loc[~nitrate_data_frame['Colour1'].isnull()]"
   ]
  },
  {
   "cell_type": "code",
   "execution_count": 280,
   "metadata": {},
   "outputs": [],
   "source": [
    "colour = nitrate_data_frame.loc[nitrate_data_frame['Colour1'] == 1] \n",
    "not_colour = nitrate_data_frame.loc[nitrate_data_frame['Colour1'] == 0] "
   ]
  },
  {
   "cell_type": "code",
   "execution_count": 281,
   "metadata": {},
   "outputs": [
    {
     "name": "stdout",
     "output_type": "stream",
     "text": [
      "Skewness: 1.98\n",
      "Skewness: 1.83\n"
     ]
    }
   ],
   "source": [
    "# sns.displot(colour['Nitrate_mg/L'], bins=19)\n",
    "# sns.displot(not_colour['Nitrate_mg/L'], bins=19)\n",
    "print(\"Skewness: %0.2f\" % colour['Nitrate_mg/L'].skew())\n",
    "print(\"Skewness: %0.2f\" % not_colour['Nitrate_mg/L'].skew())"
   ]
  },
  {
   "cell_type": "code",
   "execution_count": 285,
   "metadata": {},
   "outputs": [],
   "source": [
    "colour_log = np.log10(colour['Nitrate_mg/L']) \n",
    "not_colour_log = np.log10(not_colour['Nitrate_mg/L'])"
   ]
  },
  {
   "cell_type": "code",
   "execution_count": 286,
   "metadata": {},
   "outputs": [
    {
     "name": "stdout",
     "output_type": "stream",
     "text": [
      "Skewness: 0.16\n",
      "Skewness: 0.13\n"
     ]
    }
   ],
   "source": [
    "print(\"Skewness: %0.2f\" % colour_log.skew())\n",
    "print(\"Skewness: %0.2f\" % not_colour_log.skew())\n",
    "# sns.displot(colour_log, bins=19)\n",
    "# sns.displot(not_colour_log, bins=19)"
   ]
  },
  {
   "cell_type": "code",
   "execution_count": 313,
   "metadata": {},
   "outputs": [
    {
     "name": "stdout",
     "output_type": "stream",
     "text": [
      "Mean -0.06906, -0.15129\n",
      "Variance 0.392297, 0.40519\n",
      "Observations 1773, 3279\n",
      "Pooled Variance 0.40\n",
      "Hypothesis Mean Difference 0\n",
      "Degrees of freedom 5052\n",
      "T-Satistic 4.406962\n",
      "p-value (one-tail) 5.35E-06\n",
      "p-value (two-tail) 1.07E-05\n"
     ]
    }
   ],
   "source": [
    "def data_analysis_t_test_table(set1,set2,correlation='pearson'):\n",
    "    print('Mean {:<0.5f}, {:>0.5f}'.format(set1.mean(), set2.mean()))\n",
    "    print('Variance {:<0.6f}, {:>0.5f}'.format(set1.var(), set2.var()))\n",
    "    print('Observations {:<d}, {:>d}'.format(set1.count(), set2.count()))\n",
    "    print('Pooled Variance {:<0.2f}'.format(np.mean([set1.var(), set2.var()])))\n",
    "    # print('Pearson\\'s correlation {:^0.3f}'.format(data_frame[[set1,set2]].corr(method=correlation)[set1].iloc[1]))\n",
    "    print('Hypothesis Mean Difference {:^0.0f}'.format(set1.mean()-set2.mean()))\n",
    "    print('Degrees of freedom {:^d}'.format(set1.count() + set2.count()))\n",
    "    print('T-Satistic {:^0.6f}'.format(ttest_ind(set1,set2)[0]))\n",
    "    print('p-value (one-tail) {:^0.2E}'.format(ttest_ind(set1,set2)[1]*0.5))\n",
    "    print('p-value (two-tail) {:^0.2E}'.format(ttest_ind(set1,set2)[1]))\n",
    "\n",
    "\n",
    "data_analysis_t_test_table(not_colour_log, colour_log)"
   ]
  },
  {
   "cell_type": "code",
   "execution_count": null,
   "metadata": {},
   "outputs": [],
   "source": []
  }
 ],
 "metadata": {
  "interpreter": {
   "hash": "73df3d2a648ddfe6e132dd0b2981f8c5ee01eb57f65aaa52301d101a94b0ebb5"
  },
  "kernelspec": {
   "display_name": "Python 3.8.8 ('base')",
   "language": "python",
   "name": "python3"
  },
  "language_info": {
   "codemirror_mode": {
    "name": "ipython",
    "version": 3
   },
   "file_extension": ".py",
   "mimetype": "text/x-python",
   "name": "python",
   "nbconvert_exporter": "python",
   "pygments_lexer": "ipython3",
   "version": "3.8.8"
  },
  "orig_nbformat": 4
 },
 "nbformat": 4,
 "nbformat_minor": 2
}
