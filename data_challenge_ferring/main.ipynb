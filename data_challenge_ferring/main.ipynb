{
 "cells": [
  {
   "cell_type": "code",
   "execution_count": 2,
   "metadata": {},
   "outputs": [
    {
     "name": "stdout",
     "output_type": "stream",
     "text": [
      "1.2.4\n",
      "0.11.1\n"
     ]
    }
   ],
   "source": [
    "import pandas as pd\n",
    "import os\n",
    "import matplotlib.pyplot as plt\n",
    "from matplotlib.lines import Line2D\n",
    "from scipy.stats import zscore, norm\n",
    "import numpy as np\n",
    "import seaborn as sns\n",
    "import time\n",
    "\n",
    "print(pd.__version__) #1.2.4\n",
    "print(sns.__version__) #0.11.1\n",
    "\n",
    "\n",
    "current_path = os.getcwd()\n",
    "save_to_path = os.path.join(current_path,'presentazione/pictures')"
   ]
  },
  {
   "cell_type": "code",
   "execution_count": 3,
   "metadata": {},
   "outputs": [],
   "source": [
    "# !!!! 'data_challenge.xlsx' and this ipynb must be located at the same path !!!\n",
    "# data_challenge_file = os.path.join(current_path, 'data_challenge.xlsx')\n",
    "# CAL500_xlsx = pd.read_excel(data_challenge_file, sheet_name=0) #takes 8.3s\n",
    "# VAL_HSI_xlsx = pd.read_excel(data_challenge_file, sheet_name=1)  #takes 2m50.2s\n",
    "\n",
    "# CAL500 = CAL500_xlsx\n",
    "# VAL_HSI = VAL_HSI_xlsx\n",
    "\n",
    "# #################################### #\n",
    "# conversion in csv to save time #\n",
    "###################################### #\n",
    "\n",
    "# CAL500_xlsx.to_csv(os.path.join(current_path, 'CAL500.csv'))\n",
    "# VAL_HSI_xlsx.to_csv(os.path.join(current_path, 'VAL_HSI.csv'))  \n",
    "CAL500_csv = pd.read_csv(os.path.join(current_path, 'CAL500.csv'))\n",
    "VAL_HSI_csv = pd.read_csv(os.path.join(current_path, 'VAL_HSI.csv'))\n",
    "CAL500 = CAL500_csv\n",
    "VAL_HSI = VAL_HSI_csv\n",
    "\n",
    "# takes 3m 28.2s"
   ]
  },
  {
   "cell_type": "code",
   "execution_count": 3,
   "metadata": {},
   "outputs": [
    {
     "ename": "",
     "evalue": "",
     "output_type": "error",
     "traceback": [
      "\u001b[1;31mCanceled future for execute_request message before replies were done"
     ]
    },
    {
     "ename": "",
     "evalue": "",
     "output_type": "error",
     "traceback": [
      "\u001b[1;31mThe Kernel crashed while executing code in the the current cell or a previous cell. Please review the code in the cell(s) to identify a possible cause of the failure. Click <a href='https://aka.ms/vscodeJupyterKernelCrash'>here</a> for more info. View Jupyter <a href='command:jupyter.viewOutput'>log</a> for further details."
     ]
    }
   ],
   "source": [
    "# plot spectra\n",
    "for i in range(len(CAL500)):\n",
    "    plt.plot(CAL500.drop(['Yref','Unnamed: 0'], axis=1).keys().astype(float), CAL500.drop(['Yref','Unnamed: 0'], axis=1).iloc[i], color='red')\n",
    "for i in range(0, len(VAL_HSI), 80):\n",
    "    plt.plot(VAL_HSI.drop(['Unnamed: 0', 'Unnamed: 0.1', 'Unnamed: 1'], axis=1).keys().astype(float), VAL_HSI.drop(['Unnamed: 0', 'Unnamed: 0.1', 'Unnamed: 1'], axis=1).iloc[i], color='blue')\n"
   ]
  },
  {
   "cell_type": "code",
   "execution_count": 4,
   "metadata": {},
   "outputs": [],
   "source": [
    "from scipy.interpolate import interp1d # import interpolation function to have same independent variables training/eval sets\n",
    " \n",
    "X_cal500 = CAL500.drop(['Yref', 'Unnamed: 0'], axis=1).keys().astype(float) # get wavelengths values for training set\n",
    "len_Y_cal500 = len(CAL500.drop(['Yref'], axis=1).iloc[:, 1]) # get number of samples for training set\n",
    "\n",
    "X_val_hsi = VAL_HSI.drop(['Unnamed: 0', 'Unnamed: 1', 'Unnamed: 0.1'], axis=1).keys().astype(float) # get wavelenghts values for unknown set\n",
    "len_Y_val_hsi = len(VAL_HSI.drop(['Unnamed: 0', 'Unnamed: 1'], axis=1).iloc[:, 1]) # get number of samples for unknown set\n",
    "\n",
    "# add astype(float) if xls file loaded instead of csv; Unnamed 0 column not removed from CAL500; 'Unnamed: 0.1' not removed from VALHSI"
   ]
  },
  {
   "cell_type": "code",
   "execution_count": 5,
   "metadata": {},
   "outputs": [],
   "source": [
    "# interpolation in order to have training set with same wavelenght as unknown set\n",
    "new_Y_cal500 = []\n",
    "for i in range(0, len_Y_cal500):\n",
    "    interpolated_val = []\n",
    "    Y_cal500 = CAL500.drop(['Yref','Unnamed: 0'], axis=1).iloc[i]\n",
    "    y_interp = interp1d(X_cal500, Y_cal500, kind='linear', bounds_error=False, fill_value=0)\n",
    "    for unknown in X_val_hsi:\n",
    "        interpolated_val.append(float(y_interp(unknown)))\n",
    "    new_Y_cal500.append(interpolated_val)\n",
    "## takes 27m 37.3s\n",
    "## takes 2m 58.6s\n",
    "## takes 5.5s"
   ]
  },
  {
   "cell_type": "code",
   "execution_count": 6,
   "metadata": {},
   "outputs": [],
   "source": [
    "new_data_frame = pd.DataFrame(columns = X_val_hsi.astype(float), index = range(0,len(new_Y_cal500)))\n",
    "for i in range(len(new_Y_cal500)):\n",
    "    new_data_frame.iloc[i] = new_Y_cal500[i] \n",
    "new_data_frame = new_data_frame.loc[:, (new_data_frame != 0).any(axis=0)]\n",
    "# takes 28.1s\n",
    "# takes 0.2s"
   ]
  },
  {
   "cell_type": "code",
   "execution_count": 7,
   "metadata": {},
   "outputs": [
    {
     "name": "stdout",
     "output_type": "stream",
     "text": [
      "(375, 209)\n",
      "(375,)\n"
     ]
    }
   ],
   "source": [
    "from sklearn.model_selection import train_test_split\n",
    "\n",
    "X = new_data_frame\n",
    "y = CAL500['Yref']\n",
    "X_train, X_test, y_train, y_test = train_test_split(X, y)\n",
    "print(X_train.shape)\n",
    "print(y_train.shape)\n",
    "y_val = VAL_HSI.drop(['Unnamed: 0', 'Unnamed: 0.1', 'Unnamed: 1'], axis=1)"
   ]
  },
  {
   "cell_type": "code",
   "execution_count": 9,
   "metadata": {},
   "outputs": [],
   "source": [
    "from sklearn.model_selection import KFold\n",
    "from sklearn.linear_model import LinearRegression\n",
    "from sklearn.decomposition import PCA\n",
    "from sklearn.preprocessing import scale\n",
    "from sklearn.cross_decomposition import PLSRegression\n",
    "from sklearn.model_selection import cross_val_score\n",
    "\n",
    "pca = PLSRegression()\n",
    "\n",
    "X_reduced = pca.fit_transform(scale(X))\n",
    "n = len(X_reduced)\n",
    "\n",
    "kf_10 = KFold( n_splits=10, shuffle=True, random_state=1)\n",
    "\n",
    "regr = LinearRegression()\n",
    "mse = []\n",
    "\n",
    "# Calculate MSE with only the intercept (no principal components in regression)\n",
    "score = -1*cross_val_score(regr, np.ones((n,1)), y.ravel(), cv=kf_10, scoring='neg_mean_squared_error').mean()    \n",
    "mse.append(score)\n",
    "\n",
    "# # Calculate MSE using CV for the 19 principle components, adding one component at the time.\n",
    "# for i in np.arange(1, 30):\n",
    "#     score = -1*cross_val_score(regr, X_reduced[:,:i], y.ravel(), cv=kf_10, scoring='neg_mean_squared_error').mean()\n",
    "#     mse.append(score)\n",
    "    \n",
    "# # Plot results    \n",
    "# plt.plot(mse, '-v')\n",
    "# plt.xlabel('Number of principal components in regression')\n",
    "# plt.ylabel('MSE')\n",
    "# plt.xlim(xmin=-1)"
   ]
  },
  {
   "cell_type": "code",
   "execution_count": 143,
   "metadata": {},
   "outputs": [
    {
     "data": {
      "text/plain": [
       "(-1.0, 19.9)"
      ]
     },
     "execution_count": 143,
     "metadata": {},
     "output_type": "execute_result"
    },
    {
     "data": {
      "image/png": "[encoded data removed]",
      "text/plain": [
       "<Figure size 432x288 with 1 Axes>"
      ]
     },
     "metadata": {
      "needs_background": "light"
     },
     "output_type": "display_data"
    }
   ],
   "source": [
    "n = len(X_train)\n",
    "\n",
    "# 10-fold CV, with shuffle\n",
    "kf_10 = KFold(n_splits=10, shuffle=True, random_state=1)\n",
    "\n",
    "mse = []\n",
    "\n",
    "for i in np.arange(1, 20):\n",
    "    pls = PLSRegression(n_components=i)\n",
    "    score = cross_val_score(pls, scale(X_train), y_train, cv=kf_10, scoring='neg_mean_squared_error').mean()\n",
    "    mse.append(-score)\n",
    "\n",
    "# Plot results\n",
    "plt.plot(np.arange(1, 20), np.array(mse), '-v')\n",
    "plt.xlabel('Number of principal components in regression')\n",
    "plt.ylabel('MSE')\n",
    "plt.title('Salary')\n",
    "plt.xlim(xmin=-1)"
   ]
  },
  {
   "cell_type": "code",
   "execution_count": 173,
   "metadata": {},
   "outputs": [
    {
     "data": {
      "image/png": "[encoded data removed]",
      "text/plain": [
       "<Figure size 432x288 with 1 Axes>"
      ]
     },
     "metadata": {
      "needs_background": "light"
     },
     "output_type": "display_data"
    },
    {
     "name": "stdout",
     "output_type": "stream",
     "text": [
      "(1.345434398175034, 0.02124563732699417)\n"
     ]
    },
    {
     "data": {
      "image/png": "[encoded data removed]",
      "text/plain": [
       "<Figure size 432x288 with 1 Axes>"
      ]
     },
     "metadata": {
      "needs_background": "light"
     },
     "output_type": "display_data"
    },
    {
     "name": "stdout",
     "output_type": "stream",
     "text": [
      "(1.3336675934567588, 0.04259606463569305)\n"
     ]
    },
    {
     "data": {
      "image/png": "[encoded data removed]",
      "text/plain": [
       "<Figure size 432x288 with 1 Axes>"
      ]
     },
     "metadata": {
      "needs_background": "light"
     },
     "output_type": "display_data"
    },
    {
     "name": "stdout",
     "output_type": "stream",
     "text": [
      "(1.324542056180435, 0.06067223639708816)\n"
     ]
    },
    {
     "data": {
      "image/png": "[encoded data removed]",
      "text/plain": [
       "<Figure size 432x288 with 1 Axes>"
      ]
     },
     "metadata": {
      "needs_background": "light"
     },
     "output_type": "display_data"
    },
    {
     "name": "stdout",
     "output_type": "stream",
     "text": [
      "(1.3216905554664644, 0.06581109605935939)\n"
     ]
    },
    {
     "data": {
      "image/png": "[encoded data removed]",
      "text/plain": [
       "<Figure size 432x288 with 1 Axes>"
      ]
     },
     "metadata": {
      "needs_background": "light"
     },
     "output_type": "display_data"
    },
    {
     "name": "stdout",
     "output_type": "stream",
     "text": [
      "(1.3231766515447345, 0.06798270469056937)\n"
     ]
    }
   ],
   "source": [
    "def Get_SG_evaluation(data):\n",
    "    actual_values = np.loadtxt(os.path.join(current_path, 'Actual_val.csv'), usecols=1, skiprows = True)\n",
    "    rmsqe = np.sqrt(mean_squared_error(actual_values, data))\n",
    "    corr_matrix = np.corrcoef(actual_values, data)\n",
    "    corr = corr_matrix[0,1]\n",
    "    R_sq = corr**2\n",
    "    plt.plot(data, linestyle='none', marker = 'o')\n",
    "    plt.plot(actual_values, linestyle='none', marker = 's')\n",
    "    plt.show()\n",
    "    plt.close()\n",
    "    return rmsqe, R_sq\n",
    "\n",
    "mse = []\n",
    "r2 = []\n",
    "for n_components in range(20, 25):\n",
    "    pls = PLSRegression(n_components)\n",
    "    pls.fit(scale(X_train), y_train)\n",
    "    mean_squared_error(y_test, pls.predict(scale(X_test)))\n",
    "    fin_val_pls = pls.predict(scale(y_val))\n",
    "    final_averaged_result_pls = np.average(fin_val_pls.reshape(400,80),axis=0)\n",
    "    print(Get_SG_evaluation(final_averaged_result_pls))"
   ]
  },
  {
   "cell_type": "code",
   "execution_count": null,
   "metadata": {},
   "outputs": [],
   "source": []
  }
 ],
 "metadata": {
  "kernelspec": {
   "display_name": "Python 3.8.8 ('base')",
   "language": "python",
   "name": "python3"
  },
  "language_info": {
   "codemirror_mode": {
    "name": "ipython",
    "version": 3
   },
   "file_extension": ".py",
   "mimetype": "text/x-python",
   "name": "python",
   "nbconvert_exporter": "python",
   "pygments_lexer": "ipython3",
   "version": "3.8.8"
  },
  "orig_nbformat": 4,
  "vscode": {
   "interpreter": {
    "hash": "73df3d2a648ddfe6e132dd0b2981f8c5ee01eb57f65aaa52301d101a94b0ebb5"
   }
  }
 },
 "nbformat": 4,
 "nbformat_minor": 2
}
