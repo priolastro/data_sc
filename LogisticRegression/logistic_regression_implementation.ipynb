{
 "cells": [
  {
   "cell_type": "code",
   "execution_count": 61,
   "metadata": {},
   "outputs": [],
   "source": [
    "import numpy as np\n",
    "import matplotlib.pyplot as plt\n",
    "import pandas as pd\n",
    "from sklearn.linear_model import LogisticRegression\n",
    "from sklearn.metrics import accuracy_score "
   ]
  },
  {
   "cell_type": "code",
   "execution_count": 75,
   "metadata": {},
   "outputs": [],
   "source": [
    "data = pd.read_csv('marks.txt', header = None)\n",
    "X = data.iloc[:, :-1]\n",
    "y = data.iloc[:, -1]\n",
    "admitted = data.loc[y == 1]\n",
    "not_admitted = data.loc[y == 0]"
   ]
  },
  {
   "cell_type": "code",
   "execution_count": 38,
   "metadata": {},
   "outputs": [
    {
     "name": "stdout",
     "output_type": "stream",
     "text": [
      "[[-0.00690431]\n",
      " [ 0.01047156]\n",
      " [ 0.00050671]]\n"
     ]
    },
    {
     "name": "stderr",
     "output_type": "stream",
     "text": [
      "<ipython-input-38-b268057560db>:6: FutureWarning: Support for multi-dimensional indexing (e.g. `obj[:, None]`) is deprecated and will be removed in a future version.  Convert to a numpy array before indexing instead.\n",
      "  y = y[:, np.newaxis]\n"
     ]
    }
   ],
   "source": [
    "## re-inizializzare features, values and weights ad ogni implementazione\n",
    "X = data.iloc[:, :-1]\n",
    "y = data.iloc[:, -1]\n",
    "\n",
    "X = np.c_[np.ones((X.shape[0], 1)), X]\n",
    "y = y[:, np.newaxis]\n",
    "theta = np.zeros((X.shape[1], 1))\n",
    "\n",
    "def sigmoid(z):\n",
    "    return 1.0/(1 + np.exp(-z))\n",
    "\n",
    "def loss(y, y_hat): ##cost function\n",
    "    loss = -np.mean(y*(np.log(y_hat)) - (1-y)*np.log(1-y_hat))\n",
    "    return loss\n",
    "\n",
    "def cost_function(theta, x, y):\n",
    "    # Computes the cost function for all the training samples\n",
    "    m = x.shape[0]\n",
    "    total_cost = -(1 / m) * np.sum(\n",
    "                        y * np.log(sigmoid(np.dot(x,theta))) + (1 - y) * np.log(\n",
    "                        1 - sigmoid(np.dot(x,theta))))\n",
    "    return total_cost\n",
    "\n",
    "m = X.shape[0]\n",
    "lr =  0.0001 #learning rate, alpha\n",
    "cost = []\n",
    "for _ in range(1000):\n",
    "    gradient = (1 / m) * np.dot(X.T, sigmoid(np.dot(X, theta)) - y)\n",
    "    theta -= lr * gradient\n",
    "    cost.append(cost_function(theta, X, y))\n",
    "print(theta)\n",
    "\n",
    "# x_values = [np.min(X[:, 1]-5), np.max(X[:, 2]+5)]\n",
    "# y_values = -(parameters[0][0]+np.dot(parameters[1][0], x_values))/parameters[2][0]\n",
    "\n",
    "# plt.plot(x_values, y_values, label='Decision Boundary')\n",
    "# plt.scatter(admitted.iloc[:, 0], admitted.iloc[:, 1], s=10, label='Admitted')\n",
    "# plt.scatter(not_admitted.iloc[:, 0], not_admitted.iloc[:, 1], s=10, label='Not Admitted')\n",
    "# plt.legend()\n",
    "    \n",
    "# plt.scatter(range(0, len(cost)),cost)"
   ]
  },
  {
   "cell_type": "code",
   "execution_count": 3,
   "metadata": {},
   "outputs": [
    {
     "name": "stdout",
     "output_type": "stream",
     "text": [
      "         X0        X1  y\n",
      "0 -1.049486  0.878644  1\n",
      "1  0.878099  0.895511  0\n",
      "2  0.959288  1.039673  0\n",
      "3 -1.180134  1.120622  1\n",
      "4 -0.907318  1.060409  1\n",
      "          X0        X1  y\n",
      "95  0.751481  1.067029  0\n",
      "96 -1.364191  1.216191  1\n",
      "97 -1.189138  0.623689  1\n",
      "98  0.850638  0.446895  0\n",
      "99 -0.542460  1.347408  1\n"
     ]
    },
    {
     "data": {
      "image/png": "[encoded data removed]",
      "text/plain": [
       "<Figure size 432x288 with 1 Axes>"
      ]
     },
     "metadata": {
      "needs_background": "light"
     },
     "output_type": "display_data"
    }
   ],
   "source": [
    "from sklearn.datasets import make_classification\n",
    "from sklearn.linear_model import LogisticRegression\n",
    "import pandas as pd\n",
    "import numpy as np\n",
    "import matplotlib.pyplot as plt\n",
    "\n",
    "X, y = make_classification(n_features=2, n_redundant=0, \n",
    "                           n_informative=2, random_state=1, \n",
    "                           n_clusters_per_class=1)\n",
    " \n",
    "data = pd.DataFrame({'X0':X[:,0], 'X1':X[:,1], 'y':y})\n",
    "print(data.head())\n",
    "print(data.tail())\n",
    "X = data.iloc[:, :-1]\n",
    "y = data.iloc[:, -1]\n",
    "\n",
    "one = data.loc[y == 1]\n",
    "zero = data.loc[y == 0]\n",
    "\n",
    "plt.scatter(one.iloc[:, 0], one.iloc[:, 1], s=10, marker = '^', label='1')\n",
    "plt.scatter(zero.iloc[:, 0], zero.iloc[:, 1], s=10, marker = 's', label='0')\n",
    "plt.legend()\n",
    "plt.show()"
   ]
  },
  {
   "cell_type": "code",
   "execution_count": 6,
   "metadata": {},
   "outputs": [
    {
     "name": "stdout",
     "output_type": "stream",
     "text": [
      "LogisticRegression()\n"
     ]
    },
    {
     "name": "stderr",
     "output_type": "stream",
     "text": [
      "<ipython-input-6-4ac7911e965e>:6: FutureWarning: Support for multi-dimensional indexing (e.g. `obj[:, None]`) is deprecated and will be removed in a future version.  Convert to a numpy array before indexing instead.\n",
      "  y = y[:, np.newaxis]\n",
      "/Library/anaconda3/lib/python3.8/site-packages/sklearn/utils/validation.py:63: DataConversionWarning: A column-vector y was passed when a 1d array was expected. Please change the shape of y to (n_samples, ), for example using ravel().\n",
      "  return f(*args, **kwargs)\n"
     ]
    }
   ],
   "source": [
    "##Reinizzializzo ad ogni implementazione\n",
    "X = data.iloc[:, :-1]\n",
    "y = data.iloc[:, -1]\n",
    "\n",
    "X = np.c_[np.ones((X.shape[0], 1)), X]\n",
    "y = y[:, np.newaxis]\n",
    "\n",
    "model2 = LogisticRegression()\n",
    "parameters = model2.fit(X, y)\n",
    "print(parameters)\n",
    "\n",
    "# x_values = [np.min(X[:, 1]), np.max(X[:, 2])]\n",
    "# y_values = -(parameters[0]+np.dot(parameters[1], x_values))/parameters[2]\n",
    "\n",
    "# plt.plot(x_values, y_values, label='Decision Boundary')\n",
    "# plt.scatter(one.iloc[:, 0], one.iloc[:, 1], s=10, label='0')\n",
    "# plt.scatter(zero.iloc[:, 0], zero.iloc[:, 1], s=10, label='1')\n",
    "# plt.legend()\n",
    "\n"
   ]
  },
  {
   "cell_type": "code",
   "execution_count": null,
   "metadata": {},
   "outputs": [],
   "source": []
  }
 ],
 "metadata": {
  "interpreter": {
   "hash": "73df3d2a648ddfe6e132dd0b2981f8c5ee01eb57f65aaa52301d101a94b0ebb5"
  },
  "kernelspec": {
   "display_name": "Python 3.8.8 64-bit ('base': conda)",
   "language": "python",
   "name": "python3"
  },
  "language_info": {
   "codemirror_mode": {
    "name": "ipython",
    "version": 3
   },
   "file_extension": ".py",
   "mimetype": "text/x-python",
   "name": "python",
   "nbconvert_exporter": "python",
   "pygments_lexer": "ipython3",
   "version": "3.8.8"
  },
  "orig_nbformat": 4
 },
 "nbformat": 4,
 "nbformat_minor": 2
}
